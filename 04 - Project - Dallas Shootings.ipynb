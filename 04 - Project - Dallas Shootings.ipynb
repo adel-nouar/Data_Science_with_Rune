{
 "cells": [
  {
   "cell_type": "markdown",
   "id": "71f9e4bb",
   "metadata": {},
   "source": [
    "# Project - Dallas Shootings"
   ]
  },
  {
   "cell_type": "markdown",
   "id": "1ffe56d1",
   "metadata": {},
   "source": [
    "![Data Science Workflow](img/ds-workflow.png)"
   ]
  },
  {
   "cell_type": "markdown",
   "id": "1d735137",
   "metadata": {},
   "source": [
    "## Goal of Project\n",
    "- A newspaper want a visualization of the shootings in Dallas with focus on subjects\n",
    "- We will read data from from database and join into broader datasets\n",
    "- We will explore ideas to visualize it and create a map with the shootings"
   ]
  },
  {
   "cell_type": "markdown",
   "id": "1f4f3e13",
   "metadata": {},
   "source": [
    "## Step 1: Acquire\n",
    "- Explore problem\n",
    "- Identify data\n",
    "- Import data"
   ]
  },
  {
   "cell_type": "markdown",
   "id": "e6a9cf7d",
   "metadata": {},
   "source": [
    "### Step 1.a: Import libraries\n",
    "- Execute the cell below (SHIFT + ENTER)"
   ]
  },
  {
   "cell_type": "code",
   "execution_count": 1,
   "id": "629872f9",
   "metadata": {},
   "outputs": [],
   "source": [
    "import sqlite3\n",
    "import pandas as pd\n",
    "import matplotlib.pyplot as plt\n",
    "%matplotlib inline"
   ]
  },
  {
   "cell_type": "markdown",
   "id": "647f1fb4",
   "metadata": {},
   "source": [
    "### Step 1.b: Connect to SQLite database\n",
    "- Use `sqlite3.connect(<filename>)` to connect to the database `files/dallas-ois.sqlite`"
   ]
  },
  {
   "cell_type": "code",
   "execution_count": 2,
   "id": "8c09a576",
   "metadata": {},
   "outputs": [],
   "source": [
    "conn = sqlite3.connect('files/dallas-ois.sqlite')"
   ]
  },
  {
   "cell_type": "code",
   "execution_count": null,
   "id": "d91a368e",
   "metadata": {},
   "outputs": [],
   "source": []
  },
  {
   "cell_type": "markdown",
   "id": "79daef77",
   "metadata": {},
   "source": [
    "### Step 1. c: Read data into DataFrames\n",
    "- The database consists of 3 tables: `incident`, `officers`, `subjects`\n",
    "- Read the data from each table into a DataFrame.\n",
    "- HINT: Use `pandas` `read_sql(sql_stmt, conn)`, which takes the SQL statement (`sql_stmt`) and the data base connection `conn` from previous step.\n",
    "- HINT: The structure of the SQL statement is as follows.\n",
    "```SQL \n",
    "SELECT * FROM table\n",
    "```"
   ]
  },
  {
   "cell_type": "code",
   "execution_count": null,
   "id": "f65fd3dd",
   "metadata": {},
   "outputs": [],
   "source": []
  },
  {
   "cell_type": "code",
   "execution_count": null,
   "id": "170197ca",
   "metadata": {},
   "outputs": [],
   "source": []
  },
  {
   "cell_type": "markdown",
   "id": "f8bc6825",
   "metadata": {},
   "source": [
    "### Step 1.d: Explore the length of the DataFrames\n",
    "- What is the length of the DataFrames\n",
    "    - HINT: Apply `len(...)` on the DataFrames\n",
    "- We want to explore data based on officers and data based on subjects, both with incident data.\n",
    "- Notice: It is difficult to create one dataset for both problems\n",
    "- Explore data further to understand why"
   ]
  },
  {
   "cell_type": "code",
   "execution_count": null,
   "id": "27375a75",
   "metadata": {},
   "outputs": [],
   "source": []
  },
  {
   "cell_type": "code",
   "execution_count": null,
   "id": "b7146985",
   "metadata": {},
   "outputs": [],
   "source": []
  },
  {
   "cell_type": "markdown",
   "id": "3a10ad39",
   "metadata": {},
   "source": [
    "### Step 1.e: Read data into dataset\n",
    "- Create first dataset `subject_incidents` as officers joined with incidents.\n",
    "    - What does this dataset give us?\n",
    "    - HINT:\n",
    "    ```SQL\n",
    "    SELECT * FROM table_1 JOIN table_2 ON table_1.column_name_1=table_2.column_name_2\n",
    "    ```\n",
    "    - HINT: You can join on columns `case_number`\n",
    "- Is all data represented?"
   ]
  },
  {
   "cell_type": "code",
   "execution_count": null,
   "id": "8141f66f",
   "metadata": {},
   "outputs": [],
   "source": []
  },
  {
   "cell_type": "code",
   "execution_count": null,
   "id": "772f9565",
   "metadata": {},
   "outputs": [],
   "source": []
  },
  {
   "cell_type": "markdown",
   "id": "d57f6db6",
   "metadata": {},
   "source": [
    "## Step 2: Prepare\n",
    "- Explore data\n",
    "- Visualize ideas\n",
    "- Cleaning data"
   ]
  },
  {
   "cell_type": "markdown",
   "id": "24fa32b4",
   "metadata": {},
   "source": [
    "### Step 2.a: Check the data types\n",
    "- A step to get to understand the data better is to explore the data types\n",
    "- Get the data types by `.dtypes`"
   ]
  },
  {
   "cell_type": "code",
   "execution_count": null,
   "id": "c69ce211",
   "metadata": {},
   "outputs": [],
   "source": []
  },
  {
   "cell_type": "code",
   "execution_count": null,
   "id": "b43f77e5",
   "metadata": {},
   "outputs": [],
   "source": []
  },
  {
   "cell_type": "markdown",
   "id": "b13c18b2",
   "metadata": {},
   "source": [
    "### Step 2.b: Check for null (missing) values\n",
    "- Data often is missing entries - there can be many reasons for this\n",
    "- We need to deal with that (will do later in course)\n",
    "- Use ```.isna().sum()```"
   ]
  },
  {
   "cell_type": "code",
   "execution_count": null,
   "id": "5381337c",
   "metadata": {},
   "outputs": [],
   "source": []
  },
  {
   "cell_type": "code",
   "execution_count": null,
   "id": "e495874b",
   "metadata": {},
   "outputs": [],
   "source": []
  },
  {
   "cell_type": "markdown",
   "id": "ec6a54bd",
   "metadata": {},
   "source": [
    "### Step 2.c: Explore subject_statuses column\n",
    "- As part of finding useful features let's explore `subject_statuses`\n",
    "- We know that `subject_statuses` is categorical.\n",
    "- Therefore we can use `groupby(...)` and `count()`"
   ]
  },
  {
   "cell_type": "code",
   "execution_count": null,
   "id": "92d04aee",
   "metadata": {},
   "outputs": [],
   "source": []
  },
  {
   "cell_type": "code",
   "execution_count": null,
   "id": "ff27f6d8",
   "metadata": {},
   "outputs": [],
   "source": []
  },
  {
   "cell_type": "markdown",
   "id": "03134574",
   "metadata": {},
   "source": [
    "### Step 2.d: Explore race column\n",
    "- Repeat of previous step on column `race`"
   ]
  },
  {
   "cell_type": "code",
   "execution_count": null,
   "id": "5285129f",
   "metadata": {},
   "outputs": [],
   "source": []
  },
  {
   "cell_type": "code",
   "execution_count": null,
   "id": "0c0600e5",
   "metadata": {},
   "outputs": [],
   "source": []
  },
  {
   "cell_type": "markdown",
   "id": "fc75fe4b",
   "metadata": {},
   "source": [
    "### Step 2.e: Explore more columns\n",
    "- Feel free to explore more columns (also called features)"
   ]
  },
  {
   "cell_type": "code",
   "execution_count": null,
   "id": "895825dd",
   "metadata": {},
   "outputs": [],
   "source": []
  },
  {
   "cell_type": "code",
   "execution_count": null,
   "id": "a7bdb142",
   "metadata": {},
   "outputs": [],
   "source": []
  },
  {
   "cell_type": "markdown",
   "id": "d8231b1f",
   "metadata": {},
   "source": [
    "### Step 2.f: Visualize ideas\n",
    "- We want to make a visual plot of the shooting incident\n",
    "- Let's explore if we can make a plot based on longitude and latitude.\n",
    "    - HINT: use `plot.scatter(x='longitude', y='latitude')`\n",
    "- Then the analysis phase will focus on how to make useful insights with the feature selections."
   ]
  },
  {
   "cell_type": "code",
   "execution_count": null,
   "id": "e9355aaa",
   "metadata": {},
   "outputs": [],
   "source": []
  },
  {
   "cell_type": "code",
   "execution_count": null,
   "id": "73d0424a",
   "metadata": {},
   "outputs": [],
   "source": []
  },
  {
   "cell_type": "markdown",
   "id": "17e523e2",
   "metadata": {},
   "source": [
    "## Step 3: Analyze\n",
    "- Feature selection\n",
    "- Model selection\n",
    "- Analyze data"
   ]
  },
  {
   "cell_type": "markdown",
   "id": "ee7028f9",
   "metadata": {},
   "source": [
    "### Step 3.a: Feature selection\n",
    "- Here we will continue with the features selected feel free to explore other features.\n",
    "- Create a `dataset` with the features: `race`, `subject_statuses`, `latitude`, `longitude`\n",
    "    - HINT: Select the features of the DataFrame `subject_incidents` by filtering with a list of the columns.\n",
    "- To make further processing easier apply `dropna()` to remove missing data."
   ]
  },
  {
   "cell_type": "code",
   "execution_count": null,
   "id": "5fbacd89",
   "metadata": {},
   "outputs": [],
   "source": []
  },
  {
   "cell_type": "code",
   "execution_count": null,
   "id": "e7148f12",
   "metadata": {},
   "outputs": [],
   "source": []
  },
  {
   "cell_type": "markdown",
   "id": "8849b418",
   "metadata": {},
   "source": [
    "### Step 3.b: How to visualize features\n",
    "- We want to visualize the two features: `race` and `subject_statuses`\n",
    "- A way to visualize data is by color and size.\n",
    "- Idea:\n",
    "    - Map the race features to colors\n",
    "    - Map the subject_statuses to a size"
   ]
  },
  {
   "cell_type": "markdown",
   "id": "6f8a3a8b",
   "metadata": {},
   "source": [
    "### Step 3.b.1: Convert column\n",
    "- The `race` column has the following categories: B, W, A, L\n",
    "- We can map that to color values ([docs](https://matplotlib.org/stable/gallery/color/named_colors.html))\n",
    "- A simple way to map columns is by using `apply` on a lambda-function.\n",
    "    - Create a dict with the mapping:\n",
    "    ```Python\n",
    "mapping = {'B': 'blue', 'W': 'yellow', 'A': 'red', 'L': 'cyan'}\n",
    "```\n",
    "    - Do the mapping with `apply`and `lambda` as follows\n",
    "    ```Python\n",
    "dataset['race'] = dataset['race'].apply(lambda x: mapping[x])\n",
    "```"
   ]
  },
  {
   "cell_type": "code",
   "execution_count": null,
   "id": "d3a88c1f",
   "metadata": {},
   "outputs": [],
   "source": []
  },
  {
   "cell_type": "code",
   "execution_count": null,
   "id": "f7d1a090",
   "metadata": {},
   "outputs": [],
   "source": []
  },
  {
   "cell_type": "markdown",
   "id": "6c101de5",
   "metadata": {},
   "source": [
    "### Step 3.b.2: Convert column\n",
    "- The `subject_statuses` has the following categories: `'1 Deceased 1 Injured', '2 Injured', 'Deceased', 'Deceased Injured', 'Injured', 'Other', 'Shoot and Miss'`\n",
    "- The main categories are: `'Deceased', 'Injured', 'Shoot and Miss'`\n",
    "- A simple way is quite similar to last step.\n",
    "    - Create a mapping of the main categories:\n",
    "    ```Python\n",
    "mapping = {'Deceased': 1000, 'Injured': 500, 'Shoot and Miss': 250}\n",
    "```\n",
    "    - Do the mapping with `apply`and `lambda` as follows\n",
    "    ```Python\n",
    "dataset['subject_statuses'] = dataset['subject_statuses'].apply(lambda x: mapping.get(x, 100))\n",
    "```"
   ]
  },
  {
   "cell_type": "code",
   "execution_count": null,
   "id": "057006ac",
   "metadata": {},
   "outputs": [],
   "source": []
  },
  {
   "cell_type": "code",
   "execution_count": null,
   "id": "8c98bf76",
   "metadata": {},
   "outputs": [],
   "source": []
  },
  {
   "cell_type": "markdown",
   "id": "5daf8533",
   "metadata": {},
   "source": [
    "### Step 3.c: Visualize the data\n",
    "- Now we can visualize the data\n",
    "- This can be done with a scatter plot\n",
    "```Python\n",
    "dataset.plot.scatter(x='longitude', y='latitude', s='subject_statuses', c='race', alpha=.5)\n",
    "```\n",
    "- Where `s=` is the size feature and `c=` is the color feature, `figsize=` sets the size of the figure, `alpha=` sets the transparency of the dots."
   ]
  },
  {
   "cell_type": "code",
   "execution_count": null,
   "id": "3312a0aa",
   "metadata": {},
   "outputs": [],
   "source": []
  },
  {
   "cell_type": "code",
   "execution_count": null,
   "id": "a3508228",
   "metadata": {},
   "outputs": [],
   "source": []
  },
  {
   "cell_type": "markdown",
   "id": "b3f35cc5",
   "metadata": {},
   "source": [
    "## Step 4: Report\n",
    "- Present findings\n",
    "- Visualize results\n",
    "- Credibility counts"
   ]
  },
  {
   "cell_type": "markdown",
   "id": "0b66580f",
   "metadata": {},
   "source": [
    "### Step 4.a: Present a chart\n",
    "- The goal here is to present your message\n",
    "- Visualize one chart\n",
    "- Add a headline (title) to give the audience a message"
   ]
  },
  {
   "cell_type": "code",
   "execution_count": null,
   "id": "0fa71528",
   "metadata": {},
   "outputs": [],
   "source": []
  },
  {
   "cell_type": "code",
   "execution_count": null,
   "id": "2eb65f10",
   "metadata": {},
   "outputs": [],
   "source": []
  },
  {
   "cell_type": "markdown",
   "id": "b9210fdb",
   "metadata": {},
   "source": [
    "### Step 4.b (Optional): Further improvements\n",
    "- Ideas to improve the visualization\n",
    "- Add description (legends) with color and size description.\n",
    "- Visualize it on a map\n",
    "    - You could use [folium](https://python-visualization.github.io/folium/)\n",
    "    - Explore [quick guide](https://python-visualization.github.io/folium/quickstart.html)"
   ]
  },
  {
   "cell_type": "code",
   "execution_count": null,
   "id": "f3ab5be6",
   "metadata": {
    "scrolled": true
   },
   "outputs": [],
   "source": [
    "# !pip install folium"
   ]
  },
  {
   "cell_type": "code",
   "execution_count": null,
   "id": "b6f92786",
   "metadata": {},
   "outputs": [],
   "source": [
    "import folium"
   ]
  },
  {
   "cell_type": "code",
   "execution_count": null,
   "id": "862db25d",
   "metadata": {},
   "outputs": [],
   "source": []
  },
  {
   "cell_type": "code",
   "execution_count": null,
   "id": "7f9ba544",
   "metadata": {},
   "outputs": [],
   "source": []
  },
  {
   "cell_type": "code",
   "execution_count": null,
   "id": "e276d2e1",
   "metadata": {},
   "outputs": [],
   "source": []
  },
  {
   "cell_type": "markdown",
   "id": "566fc854",
   "metadata": {},
   "source": [
    "## Step 5: Actions\n",
    "- Use insights\n",
    "- Measure impact\n",
    "- Main goal"
   ]
  },
  {
   "cell_type": "markdown",
   "id": "6a752369",
   "metadata": {},
   "source": [
    "### Step 5.a (Optional): Are there any insights?\n",
    "- Any insights you want to highlight?\n",
    "- Any future measurements?"
   ]
  },
  {
   "cell_type": "code",
   "execution_count": null,
   "id": "fbabad92",
   "metadata": {},
   "outputs": [],
   "source": []
  },
  {
   "cell_type": "code",
   "execution_count": null,
   "id": "25084892",
   "metadata": {},
   "outputs": [],
   "source": []
  }
 ],
 "metadata": {
  "kernelspec": {
   "display_name": "Python 3 (ipykernel)",
   "language": "python",
   "name": "python3"
  },
  "language_info": {
   "codemirror_mode": {
    "name": "ipython",
    "version": 3
   },
   "file_extension": ".py",
   "mimetype": "text/x-python",
   "name": "python",
   "nbconvert_exporter": "python",
   "pygments_lexer": "ipython3",
   "version": "3.10.2"
  }
 },
 "nbformat": 4,
 "nbformat_minor": 5
}
