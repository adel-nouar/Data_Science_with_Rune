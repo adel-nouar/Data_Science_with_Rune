{
 "cells": [
  {
   "cell_type": "markdown",
   "id": "ff26ea89",
   "metadata": {},
   "source": [
    "# Data Visualization"
   ]
  },
  {
   "cell_type": "markdown",
   "id": "943f2359",
   "metadata": {},
   "source": [
    "![Data Science Workflow](img/ds-workflow.png)"
   ]
  },
  {
   "cell_type": "markdown",
   "id": "f7df062b",
   "metadata": {},
   "source": [
    "## Data Visualization\n",
    "\n",
    "Key skill today\n",
    ">  *“The ability to take data-to be able to understand it, to process it, to extract value from it, to visualize it, to communicate it-that’s going to be a hugely important skill in the next decades.\"*\n",
    "\n",
    "[Hal Varian (Google’s Chief Economist)](https://en.wikipedia.org/wiki/Hal_Varian)"
   ]
  },
  {
   "cell_type": "markdown",
   "id": "fb269ad4",
   "metadata": {},
   "source": [
    "## Data Visualization for a Data Scientist\n",
    "1. **Data Quality**: Explore data quality including identifying outliers\n",
    "2. **Data Exploration**: Understand data with visualizing ideas\n",
    "3. **Data Presentation**: Present results"
   ]
  },
  {
   "cell_type": "markdown",
   "id": "2dee1d5c",
   "metadata": {},
   "source": [
    "## The power of Data Visualization\n",
    "\n",
    "### Consider the following data\n",
    "- what is the connection?\n",
    "- See any patterns?"
   ]
  },
  {
   "cell_type": "code",
   "execution_count": null,
   "id": "90621833",
   "metadata": {},
   "outputs": [],
   "source": []
  },
  {
   "cell_type": "code",
   "execution_count": null,
   "id": "3359e8ef",
   "metadata": {},
   "outputs": [],
   "source": []
  },
  {
   "cell_type": "code",
   "execution_count": null,
   "id": "e8a3cb59",
   "metadata": {},
   "outputs": [],
   "source": []
  },
  {
   "cell_type": "code",
   "execution_count": null,
   "id": "5d033d9a",
   "metadata": {},
   "outputs": [],
   "source": []
  },
  {
   "cell_type": "markdown",
   "id": "8ab4aa11",
   "metadata": {},
   "source": [
    "### Visualizing the same data\n",
    "- Let's try to visualize the data"
   ]
  },
  {
   "cell_type": "markdown",
   "id": "a820da43",
   "metadata": {},
   "source": [
    "[Matplotlib](https://matplotlib.org) is an easy to use visualization library for Python.\n",
    "\n",
    "In Notebooks you get started with.\n",
    "```Python\n",
    "import matplotlib.pyplot as plt\n",
    "%matplotlib inline\n",
    "```"
   ]
  },
  {
   "cell_type": "code",
   "execution_count": null,
   "id": "ff6ea9b8",
   "metadata": {},
   "outputs": [],
   "source": []
  },
  {
   "cell_type": "code",
   "execution_count": null,
   "id": "1f58f93b",
   "metadata": {},
   "outputs": [],
   "source": []
  },
  {
   "cell_type": "code",
   "execution_count": null,
   "id": "f2d01ab5",
   "metadata": {},
   "outputs": [],
   "source": []
  },
  {
   "cell_type": "markdown",
   "id": "d78269fd",
   "metadata": {},
   "source": [
    "### What Data Visualization gives\n",
    "- Absorb information quickly\n",
    "- Improve insights\n",
    "- Make faster decisions"
   ]
  },
  {
   "cell_type": "markdown",
   "id": "703af8d5",
   "metadata": {},
   "source": [
    "## Data Quality\n",
    "### Is the data quality usable\n",
    "\n",
    "Consider the dataset: `files/sample_height.csv`\n",
    "\n",
    "#### Check for missing values\n",
    "[`isna()`](https://pandas.pydata.org/docs/reference/api/pandas.DataFrame.isna.html)[`.any()`](https://pandas.pydata.org/docs/reference/api/pandas.DataFrame.any.html): Check for any missing values - returns True if missing values\n",
    "```Python\n",
    "data.isna().any()\n",
    "```\n",
    "\n",
    "#### Visualize data\n",
    "- Notice: you need to know something about the data\n",
    "- We know that it is heights of humans in centimeters\n",
    "- This could be checked with a histogram"
   ]
  },
  {
   "cell_type": "code",
   "execution_count": null,
   "id": "33e345e7",
   "metadata": {},
   "outputs": [],
   "source": []
  },
  {
   "cell_type": "code",
   "execution_count": null,
   "id": "c52887d5",
   "metadata": {},
   "outputs": [],
   "source": []
  },
  {
   "cell_type": "code",
   "execution_count": null,
   "id": "ce922805",
   "metadata": {},
   "outputs": [],
   "source": []
  },
  {
   "cell_type": "code",
   "execution_count": null,
   "id": "469a616f",
   "metadata": {},
   "outputs": [],
   "source": []
  },
  {
   "cell_type": "code",
   "execution_count": null,
   "id": "b7fbd63e",
   "metadata": {},
   "outputs": [],
   "source": []
  },
  {
   "cell_type": "code",
   "execution_count": null,
   "id": "4b3907ee",
   "metadata": {},
   "outputs": [],
   "source": []
  },
  {
   "cell_type": "markdown",
   "id": "9f52f1b5",
   "metadata": {},
   "source": [
    "### Identifying outliers\n",
    "\n",
    "Consider the dataset: `files/sample_age.csv`\n",
    "\n",
    "#### Visualize with a histogram\n",
    "- This gives fast insights\n",
    "\n",
    "#### Describe the data\n",
    "[`describe()`](https://pandas.pydata.org/docs/reference/api/pandas.DataFrame.describe.html): Makes simple statistics of the DataFrame\n",
    "```Python\n",
    "data.describe()\n",
    "```"
   ]
  },
  {
   "cell_type": "code",
   "execution_count": null,
   "id": "dc825fac",
   "metadata": {},
   "outputs": [],
   "source": []
  },
  {
   "cell_type": "code",
   "execution_count": null,
   "id": "56b95578",
   "metadata": {},
   "outputs": [],
   "source": []
  },
  {
   "cell_type": "code",
   "execution_count": null,
   "id": "18603ba0",
   "metadata": {},
   "outputs": [],
   "source": []
  },
  {
   "cell_type": "code",
   "execution_count": null,
   "id": "bba58b01",
   "metadata": {},
   "outputs": [],
   "source": []
  },
  {
   "cell_type": "code",
   "execution_count": null,
   "id": "dbdd76c1",
   "metadata": {},
   "outputs": [],
   "source": []
  },
  {
   "cell_type": "markdown",
   "id": "f8552b42",
   "metadata": {},
   "source": [
    "## Data Exploration\n",
    "\n",
    "### Data Visaulization\n",
    "- Absorb information quickly\n",
    "- Improve insights\n",
    "- Make faster decisions"
   ]
  },
  {
   "cell_type": "markdown",
   "id": "af0b3042",
   "metadata": {},
   "source": [
    "### World Bank\n",
    "The [World Bank](https://www.worldbank.org/en/home) is a great source of datasets\n",
    "\n",
    "#### CO2 per capita\n",
    "- Let's explore this dataset [EN.ATM.CO2E.PC](https://data.worldbank.org/indicator/EN.ATM.CO2E.PC)\n",
    "- Already available here: `files/WorldBank-ATM.CO2E.PC_DS2.csv`\n",
    "\n",
    "#### Explore typical Data Visualizations\n",
    "- Simple plot\n",
    "- Set title\n",
    "- Set labels\n",
    "- Adjust axis"
   ]
  },
  {
   "cell_type": "markdown",
   "id": "15adfd6a",
   "metadata": {},
   "source": [
    "#### Read the data"
   ]
  },
  {
   "cell_type": "code",
   "execution_count": null,
   "id": "1b264f54",
   "metadata": {},
   "outputs": [],
   "source": []
  },
  {
   "cell_type": "code",
   "execution_count": null,
   "id": "08edac64",
   "metadata": {},
   "outputs": [],
   "source": []
  },
  {
   "cell_type": "markdown",
   "id": "9452886d",
   "metadata": {},
   "source": [
    "#### Simple plot\n",
    "- ```.plot()``` Creates a simple plot of data\n",
    "- This gives you an idea of the data"
   ]
  },
  {
   "cell_type": "code",
   "execution_count": null,
   "id": "12028692",
   "metadata": {},
   "outputs": [],
   "source": []
  },
  {
   "cell_type": "code",
   "execution_count": null,
   "id": "893fc24c",
   "metadata": {},
   "outputs": [],
   "source": []
  },
  {
   "cell_type": "markdown",
   "id": "59db0683",
   "metadata": {},
   "source": [
    "#### Adding title and labels\n",
    "Arguments\n",
    "- ```title='Tilte'``` adds the title\n",
    "- ```xlabel='X label'``` adds or changes the X-label\n",
    "- ```ylabel='X label'``` adds or changes the Y-label"
   ]
  },
  {
   "cell_type": "code",
   "execution_count": null,
   "id": "4765fd7a",
   "metadata": {},
   "outputs": [],
   "source": []
  },
  {
   "cell_type": "code",
   "execution_count": null,
   "id": "f5fdf7a8",
   "metadata": {},
   "outputs": [],
   "source": []
  },
  {
   "cell_type": "markdown",
   "id": "22986250",
   "metadata": {},
   "source": [
    "#### Adding axis range\n",
    "- ```xlim=(min, max)``` or ```xlim=min``` Sets the x-axis range\n",
    "- ```ylim=(min, max)``` or ```ylim=min``` Sets the y-axis range"
   ]
  },
  {
   "cell_type": "code",
   "execution_count": null,
   "id": "fbfa307a",
   "metadata": {},
   "outputs": [],
   "source": []
  },
  {
   "cell_type": "code",
   "execution_count": null,
   "id": "1a194ec9",
   "metadata": {},
   "outputs": [],
   "source": []
  },
  {
   "cell_type": "markdown",
   "id": "5c317580",
   "metadata": {},
   "source": [
    "### Comparing data\n",
    "- Explore **USA** and **WLD**"
   ]
  },
  {
   "cell_type": "code",
   "execution_count": null,
   "id": "02cff481",
   "metadata": {},
   "outputs": [],
   "source": []
  },
  {
   "cell_type": "code",
   "execution_count": null,
   "id": "16232a5b",
   "metadata": {},
   "outputs": [],
   "source": []
  },
  {
   "cell_type": "markdown",
   "id": "07642699",
   "metadata": {},
   "source": [
    "#### Set the figure size\n",
    "- ```figsize=(width, height)``` in inches"
   ]
  },
  {
   "cell_type": "code",
   "execution_count": null,
   "id": "93270486",
   "metadata": {},
   "outputs": [],
   "source": []
  },
  {
   "cell_type": "code",
   "execution_count": null,
   "id": "55f30150",
   "metadata": {},
   "outputs": [],
   "source": []
  },
  {
   "cell_type": "markdown",
   "id": "447a4bcf",
   "metadata": {},
   "source": [
    "### Bar plot\n",
    "- ```.plot.bar()``` Create a bar plot"
   ]
  },
  {
   "cell_type": "code",
   "execution_count": null,
   "id": "d8962a37",
   "metadata": {},
   "outputs": [],
   "source": []
  },
  {
   "cell_type": "code",
   "execution_count": null,
   "id": "96fc0134",
   "metadata": {},
   "outputs": [],
   "source": []
  },
  {
   "cell_type": "markdown",
   "id": "e29639c4",
   "metadata": {},
   "source": [
    "### Plot a range of data\n",
    "- ```.loc[from:to]``` apply this on the DataFrame to get a range (both inclusive)"
   ]
  },
  {
   "cell_type": "code",
   "execution_count": null,
   "id": "4a8c0d31",
   "metadata": {},
   "outputs": [],
   "source": []
  },
  {
   "cell_type": "code",
   "execution_count": null,
   "id": "609cbc3b",
   "metadata": {},
   "outputs": [],
   "source": []
  },
  {
   "cell_type": "markdown",
   "id": "d5739df8",
   "metadata": {},
   "source": [
    "### Histogram\n",
    "- ```.plot.hist()``` Create a histogram\n",
    "- ```bins=<number of bins>``` Specify the number of bins in the histogram."
   ]
  },
  {
   "cell_type": "code",
   "execution_count": null,
   "id": "1e1644f2",
   "metadata": {},
   "outputs": [],
   "source": []
  },
  {
   "cell_type": "code",
   "execution_count": null,
   "id": "635de6df",
   "metadata": {},
   "outputs": [],
   "source": []
  },
  {
   "cell_type": "markdown",
   "id": "565e931d",
   "metadata": {},
   "source": [
    "### Pie chart\n",
    "- ```.plot.pie()``` Creates a Pie Chart"
   ]
  },
  {
   "cell_type": "code",
   "execution_count": null,
   "id": "1289c61f",
   "metadata": {},
   "outputs": [],
   "source": []
  },
  {
   "cell_type": "code",
   "execution_count": null,
   "id": "5fef2b5e",
   "metadata": {},
   "outputs": [],
   "source": []
  },
  {
   "cell_type": "markdown",
   "id": "0122ddf5",
   "metadata": {},
   "source": [
    "### Value counts and pie charts\n",
    "- A simple chart of values above/below a threshold\n",
    "- ```.value_counts()``` Counts occurences of values in a Series (or DataFrame column)\n",
    "- A few arguments to ```.plot.pie()```\n",
    "    - ```colors=<list of colors>```\n",
    "    - ```labels=<list of labels>```\n",
    "    - ```title='<title>'```\n",
    "    - ```ylabel='<label>'```\n",
    "    - ```autopct='%1.1f%%'``` sets percentages on chart"
   ]
  },
  {
   "cell_type": "code",
   "execution_count": null,
   "id": "0a7b42ef",
   "metadata": {},
   "outputs": [],
   "source": []
  },
  {
   "cell_type": "code",
   "execution_count": null,
   "id": "8ccdb190",
   "metadata": {},
   "outputs": [],
   "source": []
  },
  {
   "cell_type": "markdown",
   "id": "8a088d51",
   "metadata": {},
   "source": [
    "### Scatter plot\n",
    "- Assume we want to investigate if GDP per capita and CO2 per capita are correlated\n",
    "    - Data available in *'files/co2_gdp_per_capita.csv'*\n",
    "- ```.plot.scatter(x=<label>, y=<label>)``` Create a scatter plot\n",
    "- ```.corr()``` Compute pairwise correlation of columns ([docs](https://pandas.pydata.org/docs/reference/api/pandas.DataFrame.corr.html))"
   ]
  },
  {
   "cell_type": "code",
   "execution_count": null,
   "id": "c7a82aa9",
   "metadata": {},
   "outputs": [],
   "source": []
  },
  {
   "cell_type": "code",
   "execution_count": null,
   "id": "f849e8db",
   "metadata": {},
   "outputs": [],
   "source": []
  },
  {
   "cell_type": "code",
   "execution_count": null,
   "id": "3e70850f",
   "metadata": {},
   "outputs": [],
   "source": []
  },
  {
   "cell_type": "code",
   "execution_count": null,
   "id": "ae38cbda",
   "metadata": {},
   "outputs": [],
   "source": []
  },
  {
   "cell_type": "markdown",
   "id": "c58d75f4",
   "metadata": {},
   "source": [
    "## Data Presentation\n",
    "- This is about making data esay to digest"
   ]
  },
  {
   "cell_type": "markdown",
   "id": "ea0387b3",
   "metadata": {},
   "source": [
    "### The message\n",
    "Assume we want to give a picture of how US CO2 per capita is compared to the rest of the world"
   ]
  },
  {
   "cell_type": "markdown",
   "id": "86cac32b",
   "metadata": {},
   "source": [
    "#### Preparation\n",
    "- Let's take 2017 (as more recent data is incomplete)\n",
    "- What is the mean, max, and min CO2 per capital in the world"
   ]
  },
  {
   "cell_type": "code",
   "execution_count": null,
   "id": "8bd6af42",
   "metadata": {},
   "outputs": [],
   "source": []
  },
  {
   "cell_type": "code",
   "execution_count": null,
   "id": "1f35ed2c",
   "metadata": {},
   "outputs": [],
   "source": []
  },
  {
   "cell_type": "code",
   "execution_count": null,
   "id": "daaac783",
   "metadata": {},
   "outputs": [],
   "source": []
  },
  {
   "cell_type": "code",
   "execution_count": null,
   "id": "f2a43e8f",
   "metadata": {},
   "outputs": [],
   "source": []
  },
  {
   "cell_type": "code",
   "execution_count": null,
   "id": "93d9d0a9",
   "metadata": {},
   "outputs": [],
   "source": []
  },
  {
   "cell_type": "markdown",
   "id": "d85a0348",
   "metadata": {},
   "source": [
    "#### And in the US?"
   ]
  },
  {
   "cell_type": "code",
   "execution_count": null,
   "id": "4241f7fd",
   "metadata": {},
   "outputs": [],
   "source": []
  },
  {
   "cell_type": "code",
   "execution_count": null,
   "id": "c52cc314",
   "metadata": {},
   "outputs": [],
   "source": []
  },
  {
   "cell_type": "markdown",
   "id": "570ca224",
   "metadata": {},
   "source": [
    "#### How can we tell a story?\n",
    "- US is above the mean\n",
    "- US is not the max\n",
    "- It is above 75%"
   ]
  },
  {
   "cell_type": "markdown",
   "id": "43528fd1",
   "metadata": {},
   "source": [
    "#### Some more advanced matplotlib"
   ]
  },
  {
   "cell_type": "code",
   "execution_count": null,
   "id": "e871306a",
   "metadata": {},
   "outputs": [],
   "source": []
  },
  {
   "cell_type": "markdown",
   "id": "a7a6591d",
   "metadata": {},
   "source": [
    "### Creative story telling with data visualization\n",
    "\n",
    "Check out this video https://www.youtube.com/watch?v=jbkSRLYSojo"
   ]
  },
  {
   "cell_type": "code",
   "execution_count": null,
   "id": "d1677cdf",
   "metadata": {},
   "outputs": [],
   "source": []
  },
  {
   "cell_type": "code",
   "execution_count": null,
   "id": "2f6556c8",
   "metadata": {},
   "outputs": [],
   "source": []
  }
 ],
 "metadata": {
  "kernelspec": {
   "display_name": "Python 3 (ipykernel)",
   "language": "python",
   "name": "python3"
  },
  "language_info": {
   "codemirror_mode": {
    "name": "ipython",
    "version": 3
   },
   "file_extension": ".py",
   "mimetype": "text/x-python",
   "name": "python",
   "nbconvert_exporter": "python",
   "pygments_lexer": "ipython3",
   "version": "3.8.8"
  }
 },
 "nbformat": 4,
 "nbformat_minor": 5
}
