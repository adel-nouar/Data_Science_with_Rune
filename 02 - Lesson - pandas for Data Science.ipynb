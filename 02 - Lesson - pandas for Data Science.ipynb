{
 "cells": [
  {
   "cell_type": "markdown",
   "id": "5e05fcb6",
   "metadata": {},
   "source": [
    "# pandas for Data Science"
   ]
  },
  {
   "cell_type": "markdown",
   "id": "4e7ccae0",
   "metadata": {},
   "source": [
    "![Data Science Workflow](img/ds-workflow.png)"
   ]
  },
  {
   "cell_type": "markdown",
   "id": "96e9f9b5",
   "metadata": {},
   "source": [
    "## pandas\n",
    "- When working with tabular data (spreadsheets, databases, etc) **pandas** is the right tool\n",
    "- **pandas** makes it easy to acquire, explore, clean, process, analyze, and visualize your data\n",
    "- This basically covers the full Data Science process"
   ]
  },
  {
   "cell_type": "markdown",
   "id": "79e640ca",
   "metadata": {},
   "source": [
    "## pandas help\n",
    "- **pandas** is a large tool but also complex\n",
    "- **pandas** can do (almost) everything with data\n",
    "    - if you can do it in Excel, you can do it in **pandas**\n",
    "- **pandas** has a great [Cheat Sheet](https://pandas.pydata.org/Pandas_Cheat_Sheet.pdf) to help you\n",
    "- **pandas** also has great [tutorials](https://pandas.pydata.org/docs/getting_started/index.html)"
   ]
  },
  {
   "cell_type": "markdown",
   "id": "b398f8b1",
   "metadata": {},
   "source": [
    "## What will we cover here?\n",
    "- Some insights into **DataFrames** (the main datastructure in **pandas**)\n",
    "- How to work with data"
   ]
  },
  {
   "cell_type": "markdown",
   "id": "ad409e9b",
   "metadata": {},
   "source": [
    "## This course also covers\n",
    "- Later we will dive into how **pandas** can get data from various sources\n",
    "    - Web Scraping, Databases, CSV, Parquet, Excel files\n",
    "- How to combine data from different sources\n",
    "- How to deal with missing data"
   ]
  },
  {
   "cell_type": "markdown",
   "id": "19862fd2",
   "metadata": {},
   "source": [
    "## Getting started with pandas\n",
    "- **pandas** is installed by default in anaconda (JuPyter Notebooks)\n",
    "- In other environments you can install it with\n",
    "    - ```pip install pandas```\n",
    "- To access **pandas** you need to import it\n",
    "    - ```import pandas as pd```"
   ]
  },
  {
   "cell_type": "code",
   "execution_count": null,
   "id": "6a442727",
   "metadata": {},
   "outputs": [],
   "source": []
  },
  {
   "cell_type": "markdown",
   "id": "8ab16529",
   "metadata": {},
   "source": [
    "### What is pandas?\n",
    "- **pandas** is like an Excel sheet - just better\n",
    "- to learn pandas, let's play with some data"
   ]
  },
  {
   "cell_type": "markdown",
   "id": "a42cc090",
   "metadata": {},
   "source": [
    "### Read data from CSV\n",
    "- What is CSV? See this lecture ([Lecture on CSV](https://youtu.be/LEyojSOg4EI))\n",
    "- ```pd.read_csv(filename, parse_dates, index_col)``` ([docs](https://pandas.pydata.org/docs/reference/api/pandas.read_csv.html))\n",
    "    - ```filename```: The path to the filename\n",
    "    - ```parse_dates=True```: If True -> try parsing the index (default False)\n",
    "    - ```index_col=0```: Set the index to be column 0"
   ]
  },
  {
   "cell_type": "code",
   "execution_count": null,
   "id": "7e18368d",
   "metadata": {},
   "outputs": [],
   "source": []
  },
  {
   "cell_type": "code",
   "execution_count": null,
   "id": "160c903c",
   "metadata": {},
   "outputs": [],
   "source": []
  },
  {
   "cell_type": "markdown",
   "id": "7133a464",
   "metadata": {},
   "source": [
    "### Always check data\n",
    "- The ```.head()```: prints the first 5 columns"
   ]
  },
  {
   "cell_type": "code",
   "execution_count": null,
   "id": "c110ec1b",
   "metadata": {},
   "outputs": [],
   "source": []
  },
  {
   "cell_type": "code",
   "execution_count": null,
   "id": "4b82087d",
   "metadata": {},
   "outputs": [],
   "source": []
  },
  {
   "cell_type": "markdown",
   "id": "a36c7fb7",
   "metadata": {},
   "source": [
    "## Index and columns\n",
    "- ```.index```: Returns the index\n",
    "- ```.columns```: Returns the column names in a list"
   ]
  },
  {
   "cell_type": "code",
   "execution_count": null,
   "id": "8969a5e9",
   "metadata": {},
   "outputs": [],
   "source": []
  },
  {
   "cell_type": "code",
   "execution_count": null,
   "id": "a6ee0f7d",
   "metadata": {},
   "outputs": [],
   "source": []
  },
  {
   "cell_type": "markdown",
   "id": "ccef5fd1",
   "metadata": {},
   "source": [
    "## Each column has a data type\n",
    "- ```.dtypes```: Returns the data types of each column"
   ]
  },
  {
   "cell_type": "code",
   "execution_count": null,
   "id": "cc3a1325",
   "metadata": {},
   "outputs": [],
   "source": []
  },
  {
   "cell_type": "code",
   "execution_count": null,
   "id": "135173b6",
   "metadata": {},
   "outputs": [],
   "source": []
  },
  {
   "cell_type": "markdown",
   "id": "d968baea",
   "metadata": {},
   "source": [
    "## The size and shape of data\n",
    "- ```len(data)```: gives the number of rows in the DataFrame\n",
    "- ```.shape```: Returns the number of rows and columns in the DataFrame"
   ]
  },
  {
   "cell_type": "code",
   "execution_count": null,
   "id": "2cdf585c",
   "metadata": {},
   "outputs": [],
   "source": []
  },
  {
   "cell_type": "code",
   "execution_count": null,
   "id": "a532c76d",
   "metadata": {},
   "outputs": [],
   "source": []
  },
  {
   "cell_type": "markdown",
   "id": "3efce186",
   "metadata": {},
   "source": [
    "## Slicing rows and columns\n",
    "- ```data['Close']```: Select one column (Series)\n",
    "- ```data[['Open', 'Close']]```: Select multiple columns with specific names\n",
    "- ```data.loc['2020-05-01':'2021-05-01']```: Select all columns between the dates (including 2021-05-01)\n",
    "- ```data.iloc[50:55]```: Select all columns between rows 50-55 (excluding 55)"
   ]
  },
  {
   "cell_type": "code",
   "execution_count": null,
   "id": "7b2a943d",
   "metadata": {},
   "outputs": [],
   "source": []
  },
  {
   "cell_type": "code",
   "execution_count": null,
   "id": "0bebbbc7",
   "metadata": {},
   "outputs": [],
   "source": []
  },
  {
   "cell_type": "code",
   "execution_count": null,
   "id": "2d798410",
   "metadata": {},
   "outputs": [],
   "source": []
  },
  {
   "cell_type": "code",
   "execution_count": null,
   "id": "783bf5b2",
   "metadata": {},
   "outputs": [],
   "source": []
  },
  {
   "cell_type": "code",
   "execution_count": null,
   "id": "3064f0ea",
   "metadata": {},
   "outputs": [],
   "source": []
  },
  {
   "cell_type": "markdown",
   "id": "89aa38df",
   "metadata": {},
   "source": [
    "## Arithmetic operations\n",
    "- Calculating with columns on all rows\n",
    "    - Example: ```data['Close'] - data['Open']```\n",
    "- Creating new columns\n",
    "    - Example: ```data['New'] = data['Open'] - data['Close']```"
   ]
  },
  {
   "cell_type": "code",
   "execution_count": null,
   "id": "e608a85b",
   "metadata": {},
   "outputs": [],
   "source": []
  },
  {
   "cell_type": "code",
   "execution_count": null,
   "id": "db0d3630",
   "metadata": {},
   "outputs": [],
   "source": []
  },
  {
   "cell_type": "code",
   "execution_count": null,
   "id": "c8cec38d",
   "metadata": {},
   "outputs": [],
   "source": []
  },
  {
   "cell_type": "code",
   "execution_count": null,
   "id": "4995c990",
   "metadata": {},
   "outputs": [],
   "source": []
  },
  {
   "cell_type": "markdown",
   "id": "ed584388",
   "metadata": {},
   "source": [
    "## Select data\n",
    "- Select data based boolean expressions\n",
    "    - Example: ```data['New'] > 0```\n",
    "    - Example: ```data[data['New'] > 0]```"
   ]
  },
  {
   "cell_type": "code",
   "execution_count": null,
   "id": "eb21a5ce",
   "metadata": {},
   "outputs": [],
   "source": []
  },
  {
   "cell_type": "code",
   "execution_count": null,
   "id": "0fb87587",
   "metadata": {},
   "outputs": [],
   "source": []
  },
  {
   "cell_type": "code",
   "execution_count": null,
   "id": "d252a176",
   "metadata": {},
   "outputs": [],
   "source": []
  },
  {
   "cell_type": "markdown",
   "id": "8782b68e",
   "metadata": {},
   "source": [
    "## Groupby and value_counts\n",
    "- Example\n",
    "```Python\n",
    "data['Category'] = data['New'] > 0\n",
    "data.groupby('Category').mean()\n",
    "```\n",
    "- Example\n",
    "```Python\n",
    "data['Category'].value_counts()\n",
    "(data['New'] > 0).value_counts()\n",
    "```"
   ]
  },
  {
   "cell_type": "code",
   "execution_count": null,
   "id": "f9e322f7",
   "metadata": {},
   "outputs": [],
   "source": []
  },
  {
   "cell_type": "code",
   "execution_count": null,
   "id": "b71ab39f",
   "metadata": {},
   "outputs": [],
   "source": []
  },
  {
   "cell_type": "code",
   "execution_count": null,
   "id": "dc13e7cd",
   "metadata": {},
   "outputs": [],
   "source": []
  },
  {
   "cell_type": "code",
   "execution_count": null,
   "id": "a01acdac",
   "metadata": {},
   "outputs": [],
   "source": []
  },
  {
   "cell_type": "code",
   "execution_count": null,
   "id": "8680e31e",
   "metadata": {},
   "outputs": [],
   "source": []
  }
 ],
 "metadata": {
  "kernelspec": {
   "display_name": "Python 3 (ipykernel)",
   "language": "python",
   "name": "python3"
  },
  "language_info": {
   "codemirror_mode": {
    "name": "ipython",
    "version": 3
   },
   "file_extension": ".py",
   "mimetype": "text/x-python",
   "name": "python",
   "nbconvert_exporter": "python",
   "pygments_lexer": "ipython3",
   "version": "3.8.8"
  }
 },
 "nbformat": 4,
 "nbformat_minor": 5
}
