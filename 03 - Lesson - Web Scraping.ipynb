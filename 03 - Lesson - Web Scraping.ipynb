{
 "cells": [
  {
   "cell_type": "markdown",
   "id": "5f07dab3",
   "metadata": {},
   "source": [
    "# Web Scraping"
   ]
  },
  {
   "cell_type": "markdown",
   "id": "e6717fee",
   "metadata": {},
   "source": [
    "![Data Science Workflow](img/ds-workflow.png)"
   ]
  },
  {
   "cell_type": "markdown",
   "id": "f6e0f2ef",
   "metadata": {},
   "source": [
    "## Acquire Data\n",
    "### Common Data Sources\n",
    "- **The Internet - Web Scraping**\n",
    "- Databasis\n",
    "- CSV\n",
    "- Excel\n",
    "- Parquet"
   ]
  },
  {
   "cell_type": "markdown",
   "id": "01c18e70",
   "metadata": {},
   "source": [
    "### Web Scraping\n",
    "- Extracting data from websites\n",
    "- Leagal issues: [wikipedia.org](https://en.wikipedia.org/wiki/Web_scraping#Legal_issues)\n",
    "- The legality of web scraping varies across the world.\n",
    "- In general, web scraping may be against the terms of use of some websites, but the enforceability of these terms is unclear."
   ]
  },
  {
   "cell_type": "markdown",
   "id": "e8e501f1",
   "metadata": {},
   "source": [
    "### Be ethical\n",
    "- Not for commercial use\n",
    "- Only private use"
   ]
  },
  {
   "cell_type": "markdown",
   "id": "29b08319",
   "metadata": {},
   "source": [
    "## Example\n",
    "- Let's consider [https://en.wikipedia.org/wiki/Wikipedia:Fundraising_statistics](https://en.wikipedia.org/wiki/Wikipedia:Fundraising_statistics)\n",
    "- **pandas** ```.read_html(.)``` Read HTML tables into a list of DataFrame objects ([docs](https://pandas.pydata.org/docs/reference/api/pandas.read_html.html))."
   ]
  },
  {
   "cell_type": "code",
   "execution_count": 1,
   "id": "6875743f",
   "metadata": {},
   "outputs": [],
   "source": [
    "import pandas as pd"
   ]
  },
  {
   "cell_type": "code",
   "execution_count": 2,
   "id": "b60ac77a",
   "metadata": {},
   "outputs": [],
   "source": [
    "url = \"https://en.wikipedia.org/wiki/Wikipedia:Fundraising_statistics\"\n",
    "\n",
    "data = pd.read_html(url)"
   ]
  },
  {
   "cell_type": "code",
   "execution_count": 3,
   "id": "fbc5764d",
   "metadata": {},
   "outputs": [
    {
     "data": {
      "text/plain": [
       "list"
      ]
     },
     "execution_count": 3,
     "metadata": {},
     "output_type": "execute_result"
    }
   ],
   "source": [
    "type(data)"
   ]
  },
  {
   "cell_type": "code",
   "execution_count": 4,
   "id": "2ad2392c",
   "metadata": {},
   "outputs": [
    {
     "data": {
      "text/plain": [
       "pandas.core.frame.DataFrame"
      ]
     },
     "execution_count": 4,
     "metadata": {},
     "output_type": "execute_result"
    }
   ],
   "source": [
    "type(data[0])"
   ]
  },
  {
   "cell_type": "code",
   "execution_count": 5,
   "id": "e9c7a489",
   "metadata": {},
   "outputs": [
    {
     "data": {
      "text/plain": [
       "2"
      ]
     },
     "execution_count": 5,
     "metadata": {},
     "output_type": "execute_result"
    }
   ],
   "source": [
    "len(data)"
   ]
  },
  {
   "cell_type": "code",
   "execution_count": 6,
   "id": "af648578",
   "metadata": {},
   "outputs": [
    {
     "data": {
      "text/html": [
       "<div>\n",
       "<style scoped>\n",
       "    .dataframe tbody tr th:only-of-type {\n",
       "        vertical-align: middle;\n",
       "    }\n",
       "\n",
       "    .dataframe tbody tr th {\n",
       "        vertical-align: top;\n",
       "    }\n",
       "\n",
       "    .dataframe thead th {\n",
       "        text-align: right;\n",
       "    }\n",
       "</style>\n",
       "<table border=\"1\" class=\"dataframe\">\n",
       "  <thead>\n",
       "    <tr style=\"text-align: right;\">\n",
       "      <th></th>\n",
       "      <th>Year</th>\n",
       "      <th>Source</th>\n",
       "      <th>Revenue</th>\n",
       "      <th>Expenses</th>\n",
       "      <th>Asset rise</th>\n",
       "      <th>Total assets</th>\n",
       "    </tr>\n",
       "  </thead>\n",
       "  <tbody>\n",
       "    <tr>\n",
       "      <th>0</th>\n",
       "      <td>2020/2021</td>\n",
       "      <td>PDF</td>\n",
       "      <td>$ 162,886,686</td>\n",
       "      <td>$ 111,839,819</td>\n",
       "      <td>$ 50,861,811</td>\n",
       "      <td>$ 231,177,536</td>\n",
       "    </tr>\n",
       "    <tr>\n",
       "      <th>1</th>\n",
       "      <td>2019/2020</td>\n",
       "      <td>PDF</td>\n",
       "      <td>$ 129,234,327</td>\n",
       "      <td>$ 112,489,397</td>\n",
       "      <td>$ 14,674,300</td>\n",
       "      <td>$ 180,315,725</td>\n",
       "    </tr>\n",
       "    <tr>\n",
       "      <th>2</th>\n",
       "      <td>2018/2019</td>\n",
       "      <td>PDF</td>\n",
       "      <td>$ 120,067,266</td>\n",
       "      <td>$ 91,414,010</td>\n",
       "      <td>$ 30,691,855</td>\n",
       "      <td>$ 165,641,425</td>\n",
       "    </tr>\n",
       "    <tr>\n",
       "      <th>3</th>\n",
       "      <td>2017/2018</td>\n",
       "      <td>PDF</td>\n",
       "      <td>$ 104,505,783</td>\n",
       "      <td>$ 81,442,265</td>\n",
       "      <td>$ 21,619,373</td>\n",
       "      <td>$ 134,949,570</td>\n",
       "    </tr>\n",
       "    <tr>\n",
       "      <th>4</th>\n",
       "      <td>2016/2017</td>\n",
       "      <td>PDF</td>\n",
       "      <td>$ 91,242,418</td>\n",
       "      <td>$ 69,136,758</td>\n",
       "      <td>$ 21,547,402</td>\n",
       "      <td>$ 113,330,197</td>\n",
       "    </tr>\n",
       "  </tbody>\n",
       "</table>\n",
       "</div>"
      ],
      "text/plain": [
       "        Year Source        Revenue       Expenses    Asset rise   Total assets\n",
       "0  2020/2021    PDF  $ 162,886,686  $ 111,839,819  $ 50,861,811  $ 231,177,536\n",
       "1  2019/2020    PDF  $ 129,234,327  $ 112,489,397  $ 14,674,300  $ 180,315,725\n",
       "2  2018/2019    PDF  $ 120,067,266   $ 91,414,010  $ 30,691,855  $ 165,641,425\n",
       "3  2017/2018    PDF  $ 104,505,783   $ 81,442,265  $ 21,619,373  $ 134,949,570\n",
       "4  2016/2017    PDF   $ 91,242,418   $ 69,136,758  $ 21,547,402  $ 113,330,197"
      ]
     },
     "execution_count": 6,
     "metadata": {},
     "output_type": "execute_result"
    }
   ],
   "source": [
    "data[0].head()"
   ]
  },
  {
   "cell_type": "code",
   "execution_count": 7,
   "id": "825c9f03",
   "metadata": {},
   "outputs": [],
   "source": [
    "fundraising = data[0]"
   ]
  },
  {
   "cell_type": "markdown",
   "id": "62ef8e71",
   "metadata": {},
   "source": [
    "## Data Wrangling\n",
    "- Data wrangling (data munging): transforming and mapping data from one \"raw\" data form into another format\n",
    "- With the intent of making it more appropriate and valuable for a variety of downstream purposes such as analytics"
   ]
  },
  {
   "cell_type": "markdown",
   "id": "87ea87ef",
   "metadata": {},
   "source": [
    "### Check the data types\n",
    "- Remember ```.dtypes```"
   ]
  },
  {
   "cell_type": "code",
   "execution_count": 8,
   "id": "1b3235a3",
   "metadata": {},
   "outputs": [
    {
     "data": {
      "text/plain": [
       "Year            object\n",
       "Source          object\n",
       "Revenue         object\n",
       "Expenses        object\n",
       "Asset rise      object\n",
       "Total assets    object\n",
       "dtype: object"
      ]
     },
     "execution_count": 8,
     "metadata": {},
     "output_type": "execute_result"
    }
   ],
   "source": [
    "fundraising.dtypes"
   ]
  },
  {
   "cell_type": "code",
   "execution_count": 15,
   "id": "93ea9ec2",
   "metadata": {},
   "outputs": [],
   "source": [
    "fundraising['Exp'] = pd.to_numeric(fundraising['Exp'])"
   ]
  },
  {
   "cell_type": "code",
   "execution_count": 13,
   "id": "55c2f763",
   "metadata": {},
   "outputs": [
    {
     "data": {
      "text/html": [
       "<div>\n",
       "<style scoped>\n",
       "    .dataframe tbody tr th:only-of-type {\n",
       "        vertical-align: middle;\n",
       "    }\n",
       "\n",
       "    .dataframe tbody tr th {\n",
       "        vertical-align: top;\n",
       "    }\n",
       "\n",
       "    .dataframe thead th {\n",
       "        text-align: right;\n",
       "    }\n",
       "</style>\n",
       "<table border=\"1\" class=\"dataframe\">\n",
       "  <thead>\n",
       "    <tr style=\"text-align: right;\">\n",
       "      <th></th>\n",
       "      <th>Year</th>\n",
       "      <th>Source</th>\n",
       "      <th>Revenue</th>\n",
       "      <th>Expenses</th>\n",
       "      <th>Asset rise</th>\n",
       "      <th>Total assets</th>\n",
       "      <th>Exp</th>\n",
       "    </tr>\n",
       "  </thead>\n",
       "  <tbody>\n",
       "    <tr>\n",
       "      <th>0</th>\n",
       "      <td>2020/2021</td>\n",
       "      <td>PDF</td>\n",
       "      <td>$ 162,886,686</td>\n",
       "      <td>$ 111,839,819</td>\n",
       "      <td>$ 50,861,811</td>\n",
       "      <td>$ 231,177,536</td>\n",
       "      <td>111839819</td>\n",
       "    </tr>\n",
       "    <tr>\n",
       "      <th>1</th>\n",
       "      <td>2019/2020</td>\n",
       "      <td>PDF</td>\n",
       "      <td>$ 129,234,327</td>\n",
       "      <td>$ 112,489,397</td>\n",
       "      <td>$ 14,674,300</td>\n",
       "      <td>$ 180,315,725</td>\n",
       "      <td>112489397</td>\n",
       "    </tr>\n",
       "    <tr>\n",
       "      <th>2</th>\n",
       "      <td>2018/2019</td>\n",
       "      <td>PDF</td>\n",
       "      <td>$ 120,067,266</td>\n",
       "      <td>$ 91,414,010</td>\n",
       "      <td>$ 30,691,855</td>\n",
       "      <td>$ 165,641,425</td>\n",
       "      <td>91414010</td>\n",
       "    </tr>\n",
       "    <tr>\n",
       "      <th>3</th>\n",
       "      <td>2017/2018</td>\n",
       "      <td>PDF</td>\n",
       "      <td>$ 104,505,783</td>\n",
       "      <td>$ 81,442,265</td>\n",
       "      <td>$ 21,619,373</td>\n",
       "      <td>$ 134,949,570</td>\n",
       "      <td>81442265</td>\n",
       "    </tr>\n",
       "    <tr>\n",
       "      <th>4</th>\n",
       "      <td>2016/2017</td>\n",
       "      <td>PDF</td>\n",
       "      <td>$ 91,242,418</td>\n",
       "      <td>$ 69,136,758</td>\n",
       "      <td>$ 21,547,402</td>\n",
       "      <td>$ 113,330,197</td>\n",
       "      <td>69136758</td>\n",
       "    </tr>\n",
       "  </tbody>\n",
       "</table>\n",
       "</div>"
      ],
      "text/plain": [
       "        Year Source        Revenue       Expenses    Asset rise  \\\n",
       "0  2020/2021    PDF  $ 162,886,686  $ 111,839,819  $ 50,861,811   \n",
       "1  2019/2020    PDF  $ 129,234,327  $ 112,489,397  $ 14,674,300   \n",
       "2  2018/2019    PDF  $ 120,067,266   $ 91,414,010  $ 30,691,855   \n",
       "3  2017/2018    PDF  $ 104,505,783   $ 81,442,265  $ 21,619,373   \n",
       "4  2016/2017    PDF   $ 91,242,418   $ 69,136,758  $ 21,547,402   \n",
       "\n",
       "    Total assets        Exp  \n",
       "0  $ 231,177,536  111839819  \n",
       "1  $ 180,315,725  112489397  \n",
       "2  $ 165,641,425   91414010  \n",
       "3  $ 134,949,570   81442265  \n",
       "4  $ 113,330,197   69136758  "
      ]
     },
     "execution_count": 13,
     "metadata": {},
     "output_type": "execute_result"
    }
   ],
   "source": [
    "fundraising['Exp'] = fundraising['Expenses'].str[2:]\n",
    "fundraising['Exp'] = fundraising['Exp'].str.replace(',', '')\n",
    "fundraising.head()"
   ]
  },
  {
   "cell_type": "code",
   "execution_count": null,
   "id": "c7fe4cb3",
   "metadata": {},
   "outputs": [],
   "source": []
  },
  {
   "cell_type": "code",
   "execution_count": null,
   "id": "80529bde",
   "metadata": {},
   "outputs": [],
   "source": []
  },
  {
   "cell_type": "code",
   "execution_count": null,
   "id": "2a914be3",
   "metadata": {},
   "outputs": [],
   "source": []
  },
  {
   "cell_type": "code",
   "execution_count": null,
   "id": "dfc2fa8f",
   "metadata": {},
   "outputs": [],
   "source": []
  },
  {
   "cell_type": "code",
   "execution_count": null,
   "id": "7c4b1c05",
   "metadata": {},
   "outputs": [],
   "source": []
  },
  {
   "cell_type": "code",
   "execution_count": null,
   "id": "61785162",
   "metadata": {},
   "outputs": [],
   "source": []
  },
  {
   "cell_type": "code",
   "execution_count": null,
   "id": "bdebaa18",
   "metadata": {},
   "outputs": [],
   "source": []
  },
  {
   "cell_type": "code",
   "execution_count": null,
   "id": "2429242b",
   "metadata": {},
   "outputs": [],
   "source": []
  },
  {
   "cell_type": "code",
   "execution_count": null,
   "id": "e1f1888f",
   "metadata": {},
   "outputs": [],
   "source": []
  },
  {
   "cell_type": "code",
   "execution_count": null,
   "id": "1cc250ff",
   "metadata": {},
   "outputs": [],
   "source": []
  },
  {
   "cell_type": "code",
   "execution_count": null,
   "id": "e914db7a",
   "metadata": {},
   "outputs": [],
   "source": []
  },
  {
   "cell_type": "code",
   "execution_count": null,
   "id": "2320b6e4",
   "metadata": {},
   "outputs": [],
   "source": []
  }
 ],
 "metadata": {
  "kernelspec": {
   "display_name": "Python 3 (ipykernel)",
   "language": "python",
   "name": "python3"
  },
  "language_info": {
   "codemirror_mode": {
    "name": "ipython",
    "version": 3
   },
   "file_extension": ".py",
   "mimetype": "text/x-python",
   "name": "python",
   "nbconvert_exporter": "python",
   "pygments_lexer": "ipython3",
   "version": "3.10.2"
  }
 },
 "nbformat": 4,
 "nbformat_minor": 5
}
