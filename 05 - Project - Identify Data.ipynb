{
 "cells": [
  {
   "cell_type": "markdown",
   "id": "39c877c9",
   "metadata": {},
   "source": [
    "# Project - Identify Data"
   ]
  },
  {
   "cell_type": "markdown",
   "id": "26869a35",
   "metadata": {},
   "source": [
    "![Data Science Workflow](img/ds-workflow.png)"
   ]
  },
  {
   "cell_type": "markdown",
   "id": "9da31bb3",
   "metadata": {},
   "source": [
    "## Goal of Project\n",
    "- World population growth rate\n",
    "- Is the growth rate stable? Increasing or Declining?"
   ]
  },
  {
   "cell_type": "markdown",
   "id": "77f362c4",
   "metadata": {},
   "source": [
    "## Step 1: Acquire\n",
    "- Explore problem\n",
    "- Identify data\n",
    "- Import data"
   ]
  },
  {
   "cell_type": "markdown",
   "id": "6f8cbbcb",
   "metadata": {},
   "source": [
    "### Step 1.a: Explore and understand problem\n",
    "- What data do we need to answer the problem?"
   ]
  },
  {
   "cell_type": "code",
   "execution_count": null,
   "id": "bb15bc3f",
   "metadata": {},
   "outputs": [],
   "source": [
    "# We need to have the data of the world population"
   ]
  },
  {
   "cell_type": "markdown",
   "id": "eb4743fa",
   "metadata": {},
   "source": [
    "### Step 1.b: Indentify data with world population\n",
    "- There are multiple sources\n",
    "- World bank: https://data.worldbank.org/indicator/SP.POP.TOTL\n",
    "- Wiki: https://en.wikipedia.org/wiki/World_population\n",
    "- ...and probably more\n"
   ]
  },
  {
   "cell_type": "code",
   "execution_count": null,
   "id": "31004f80",
   "metadata": {},
   "outputs": [],
   "source": [
    "# We we'll use the World bank data in the following steps"
   ]
  },
  {
   "cell_type": "markdown",
   "id": "2bf725fa",
   "metadata": {},
   "source": [
    "### Step 1.c: Download and import the data\n",
    "- We will download it from World Bank"
   ]
  },
  {
   "cell_type": "code",
   "execution_count": null,
   "id": "7ab4daf3",
   "metadata": {},
   "outputs": [],
   "source": [
    "# We downloaded the CSV format data"
   ]
  },
  {
   "cell_type": "markdown",
   "id": "e4ad8ec8",
   "metadata": {},
   "source": [
    "### Step 1.d: Import libraries\n",
    "- Execute the cell below (SHIFT + ENTER)"
   ]
  },
  {
   "cell_type": "code",
   "execution_count": 1,
   "id": "9b9c78d1",
   "metadata": {},
   "outputs": [],
   "source": [
    "import pandas as pd\n",
    "import matplotlib.pyplot as plt\n",
    "%matplotlib inline"
   ]
  },
  {
   "cell_type": "markdown",
   "id": "b5f9a799",
   "metadata": {},
   "source": [
    "### Step 1.e: Read the data\n",
    "- Use ```pd.read_csv()``` to read the file `files/API_SP/API_SP.POP.TOTL_DS2_en_csv_v2_3158886.csv`\n",
    "- NOTE: Remember to assign the result to a variable (e.g., ```data```)\n",
    "- HELP: You might need to `skiprows=4`\n",
    "- Apply ```.head()``` on the data to see all is as expected"
   ]
  },
  {
   "cell_type": "code",
   "execution_count": 8,
   "id": "8ab5964e",
   "metadata": {},
   "outputs": [
    {
     "data": {
      "text/html": [
       "<div>\n",
       "<style scoped>\n",
       "    .dataframe tbody tr th:only-of-type {\n",
       "        vertical-align: middle;\n",
       "    }\n",
       "\n",
       "    .dataframe tbody tr th {\n",
       "        vertical-align: top;\n",
       "    }\n",
       "\n",
       "    .dataframe thead th {\n",
       "        text-align: right;\n",
       "    }\n",
       "</style>\n",
       "<table border=\"1\" class=\"dataframe\">\n",
       "  <thead>\n",
       "    <tr style=\"text-align: right;\">\n",
       "      <th></th>\n",
       "      <th>Country Name</th>\n",
       "      <th>Country Code</th>\n",
       "      <th>Indicator Name</th>\n",
       "      <th>Indicator Code</th>\n",
       "      <th>1960</th>\n",
       "      <th>1961</th>\n",
       "      <th>1962</th>\n",
       "      <th>1963</th>\n",
       "      <th>1964</th>\n",
       "      <th>1965</th>\n",
       "      <th>...</th>\n",
       "      <th>2012</th>\n",
       "      <th>2013</th>\n",
       "      <th>2014</th>\n",
       "      <th>2015</th>\n",
       "      <th>2016</th>\n",
       "      <th>2017</th>\n",
       "      <th>2018</th>\n",
       "      <th>2019</th>\n",
       "      <th>2020</th>\n",
       "      <th>Unnamed: 65</th>\n",
       "    </tr>\n",
       "  </thead>\n",
       "  <tbody>\n",
       "    <tr>\n",
       "      <th>0</th>\n",
       "      <td>Aruba</td>\n",
       "      <td>ABW</td>\n",
       "      <td>Population, total</td>\n",
       "      <td>SP.POP.TOTL</td>\n",
       "      <td>54208.0</td>\n",
       "      <td>55434.0</td>\n",
       "      <td>56234.0</td>\n",
       "      <td>56699.0</td>\n",
       "      <td>57029.0</td>\n",
       "      <td>57357.0</td>\n",
       "      <td>...</td>\n",
       "      <td>102565.0</td>\n",
       "      <td>103165.0</td>\n",
       "      <td>103776.0</td>\n",
       "      <td>104339.0</td>\n",
       "      <td>104865.0</td>\n",
       "      <td>105361.0</td>\n",
       "      <td>105846.0</td>\n",
       "      <td>106310.0</td>\n",
       "      <td>106766.0</td>\n",
       "      <td>NaN</td>\n",
       "    </tr>\n",
       "    <tr>\n",
       "      <th>1</th>\n",
       "      <td>Africa Eastern and Southern</td>\n",
       "      <td>AFE</td>\n",
       "      <td>Population, total</td>\n",
       "      <td>SP.POP.TOTL</td>\n",
       "      <td>130836765.0</td>\n",
       "      <td>134159786.0</td>\n",
       "      <td>137614644.0</td>\n",
       "      <td>141202036.0</td>\n",
       "      <td>144920186.0</td>\n",
       "      <td>148769974.0</td>\n",
       "      <td>...</td>\n",
       "      <td>547482863.0</td>\n",
       "      <td>562601578.0</td>\n",
       "      <td>578075373.0</td>\n",
       "      <td>593871847.0</td>\n",
       "      <td>609978946.0</td>\n",
       "      <td>626392880.0</td>\n",
       "      <td>643090131.0</td>\n",
       "      <td>660046272.0</td>\n",
       "      <td>677243299.0</td>\n",
       "      <td>NaN</td>\n",
       "    </tr>\n",
       "    <tr>\n",
       "      <th>2</th>\n",
       "      <td>Afghanistan</td>\n",
       "      <td>AFG</td>\n",
       "      <td>Population, total</td>\n",
       "      <td>SP.POP.TOTL</td>\n",
       "      <td>8996967.0</td>\n",
       "      <td>9169406.0</td>\n",
       "      <td>9351442.0</td>\n",
       "      <td>9543200.0</td>\n",
       "      <td>9744772.0</td>\n",
       "      <td>9956318.0</td>\n",
       "      <td>...</td>\n",
       "      <td>31161378.0</td>\n",
       "      <td>32269592.0</td>\n",
       "      <td>33370804.0</td>\n",
       "      <td>34413603.0</td>\n",
       "      <td>35383028.0</td>\n",
       "      <td>36296111.0</td>\n",
       "      <td>37171922.0</td>\n",
       "      <td>38041757.0</td>\n",
       "      <td>38928341.0</td>\n",
       "      <td>NaN</td>\n",
       "    </tr>\n",
       "    <tr>\n",
       "      <th>3</th>\n",
       "      <td>Africa Western and Central</td>\n",
       "      <td>AFW</td>\n",
       "      <td>Population, total</td>\n",
       "      <td>SP.POP.TOTL</td>\n",
       "      <td>96396419.0</td>\n",
       "      <td>98407221.0</td>\n",
       "      <td>100506960.0</td>\n",
       "      <td>102691339.0</td>\n",
       "      <td>104953470.0</td>\n",
       "      <td>107289875.0</td>\n",
       "      <td>...</td>\n",
       "      <td>370243017.0</td>\n",
       "      <td>380437896.0</td>\n",
       "      <td>390882979.0</td>\n",
       "      <td>401586651.0</td>\n",
       "      <td>412551299.0</td>\n",
       "      <td>423769930.0</td>\n",
       "      <td>435229381.0</td>\n",
       "      <td>446911598.0</td>\n",
       "      <td>458803476.0</td>\n",
       "      <td>NaN</td>\n",
       "    </tr>\n",
       "    <tr>\n",
       "      <th>4</th>\n",
       "      <td>Angola</td>\n",
       "      <td>AGO</td>\n",
       "      <td>Population, total</td>\n",
       "      <td>SP.POP.TOTL</td>\n",
       "      <td>5454938.0</td>\n",
       "      <td>5531451.0</td>\n",
       "      <td>5608499.0</td>\n",
       "      <td>5679409.0</td>\n",
       "      <td>5734995.0</td>\n",
       "      <td>5770573.0</td>\n",
       "      <td>...</td>\n",
       "      <td>25107925.0</td>\n",
       "      <td>26015786.0</td>\n",
       "      <td>26941773.0</td>\n",
       "      <td>27884380.0</td>\n",
       "      <td>28842482.0</td>\n",
       "      <td>29816769.0</td>\n",
       "      <td>30809787.0</td>\n",
       "      <td>31825299.0</td>\n",
       "      <td>32866268.0</td>\n",
       "      <td>NaN</td>\n",
       "    </tr>\n",
       "  </tbody>\n",
       "</table>\n",
       "<p>5 rows × 66 columns</p>\n",
       "</div>"
      ],
      "text/plain": [
       "                  Country Name Country Code     Indicator Name Indicator Code  \\\n",
       "0                        Aruba          ABW  Population, total    SP.POP.TOTL   \n",
       "1  Africa Eastern and Southern          AFE  Population, total    SP.POP.TOTL   \n",
       "2                  Afghanistan          AFG  Population, total    SP.POP.TOTL   \n",
       "3   Africa Western and Central          AFW  Population, total    SP.POP.TOTL   \n",
       "4                       Angola          AGO  Population, total    SP.POP.TOTL   \n",
       "\n",
       "          1960         1961         1962         1963         1964  \\\n",
       "0      54208.0      55434.0      56234.0      56699.0      57029.0   \n",
       "1  130836765.0  134159786.0  137614644.0  141202036.0  144920186.0   \n",
       "2    8996967.0    9169406.0    9351442.0    9543200.0    9744772.0   \n",
       "3   96396419.0   98407221.0  100506960.0  102691339.0  104953470.0   \n",
       "4    5454938.0    5531451.0    5608499.0    5679409.0    5734995.0   \n",
       "\n",
       "          1965  ...         2012         2013         2014         2015  \\\n",
       "0      57357.0  ...     102565.0     103165.0     103776.0     104339.0   \n",
       "1  148769974.0  ...  547482863.0  562601578.0  578075373.0  593871847.0   \n",
       "2    9956318.0  ...   31161378.0   32269592.0   33370804.0   34413603.0   \n",
       "3  107289875.0  ...  370243017.0  380437896.0  390882979.0  401586651.0   \n",
       "4    5770573.0  ...   25107925.0   26015786.0   26941773.0   27884380.0   \n",
       "\n",
       "          2016         2017         2018         2019         2020  \\\n",
       "0     104865.0     105361.0     105846.0     106310.0     106766.0   \n",
       "1  609978946.0  626392880.0  643090131.0  660046272.0  677243299.0   \n",
       "2   35383028.0   36296111.0   37171922.0   38041757.0   38928341.0   \n",
       "3  412551299.0  423769930.0  435229381.0  446911598.0  458803476.0   \n",
       "4   28842482.0   29816769.0   30809787.0   31825299.0   32866268.0   \n",
       "\n",
       "   Unnamed: 65  \n",
       "0          NaN  \n",
       "1          NaN  \n",
       "2          NaN  \n",
       "3          NaN  \n",
       "4          NaN  \n",
       "\n",
       "[5 rows x 66 columns]"
      ]
     },
     "execution_count": 8,
     "metadata": {},
     "output_type": "execute_result"
    }
   ],
   "source": [
    "data = pd.read_csv(\"files/API_SP/API_SP.POP.TOTL_DS2_en_csv_v2_3158886.csv\", skiprows=4)\n",
    "data.head()"
   ]
  },
  {
   "cell_type": "markdown",
   "id": "a2377dd7",
   "metadata": {},
   "source": [
    "### Step 1.f: Get world data\n",
    "- We are only insterested in data for the world.\n",
    "- The data can be identified by `Country Name` (World) or `Country Code` (WLD).\n",
    "- This can be done as follows:\n",
    "```Python\n",
    "data[data['Country Name'] == 'World']\n",
    "```\n",
    "- NOTE: Remember to keep data"
   ]
  },
  {
   "cell_type": "code",
   "execution_count": 10,
   "id": "9e2dd8ab",
   "metadata": {},
   "outputs": [],
   "source": [
    "dataset = data[data['Country Name'] == 'World']"
   ]
  },
  {
   "cell_type": "code",
   "execution_count": 11,
   "id": "cebd5bc6",
   "metadata": {},
   "outputs": [
    {
     "data": {
      "text/html": [
       "<div>\n",
       "<style scoped>\n",
       "    .dataframe tbody tr th:only-of-type {\n",
       "        vertical-align: middle;\n",
       "    }\n",
       "\n",
       "    .dataframe tbody tr th {\n",
       "        vertical-align: top;\n",
       "    }\n",
       "\n",
       "    .dataframe thead th {\n",
       "        text-align: right;\n",
       "    }\n",
       "</style>\n",
       "<table border=\"1\" class=\"dataframe\">\n",
       "  <thead>\n",
       "    <tr style=\"text-align: right;\">\n",
       "      <th></th>\n",
       "      <th>Country Name</th>\n",
       "      <th>Country Code</th>\n",
       "      <th>Indicator Name</th>\n",
       "      <th>Indicator Code</th>\n",
       "      <th>1960</th>\n",
       "      <th>1961</th>\n",
       "      <th>1962</th>\n",
       "      <th>1963</th>\n",
       "      <th>1964</th>\n",
       "      <th>1965</th>\n",
       "      <th>...</th>\n",
       "      <th>2012</th>\n",
       "      <th>2013</th>\n",
       "      <th>2014</th>\n",
       "      <th>2015</th>\n",
       "      <th>2016</th>\n",
       "      <th>2017</th>\n",
       "      <th>2018</th>\n",
       "      <th>2019</th>\n",
       "      <th>2020</th>\n",
       "      <th>Unnamed: 65</th>\n",
       "    </tr>\n",
       "  </thead>\n",
       "  <tbody>\n",
       "    <tr>\n",
       "      <th>259</th>\n",
       "      <td>World</td>\n",
       "      <td>WLD</td>\n",
       "      <td>Population, total</td>\n",
       "      <td>SP.POP.TOTL</td>\n",
       "      <td>3.032156e+09</td>\n",
       "      <td>3.071596e+09</td>\n",
       "      <td>3.124561e+09</td>\n",
       "      <td>3.189656e+09</td>\n",
       "      <td>3.255146e+09</td>\n",
       "      <td>3.322047e+09</td>\n",
       "      <td>...</td>\n",
       "      <td>7.085790e+09</td>\n",
       "      <td>7.169675e+09</td>\n",
       "      <td>7.254293e+09</td>\n",
       "      <td>7.339077e+09</td>\n",
       "      <td>7.424485e+09</td>\n",
       "      <td>7.509410e+09</td>\n",
       "      <td>7.592476e+09</td>\n",
       "      <td>7.673345e+09</td>\n",
       "      <td>7.752841e+09</td>\n",
       "      <td>NaN</td>\n",
       "    </tr>\n",
       "  </tbody>\n",
       "</table>\n",
       "<p>1 rows × 66 columns</p>\n",
       "</div>"
      ],
      "text/plain": [
       "    Country Name Country Code     Indicator Name Indicator Code          1960  \\\n",
       "259        World          WLD  Population, total    SP.POP.TOTL  3.032156e+09   \n",
       "\n",
       "             1961          1962          1963          1964          1965  \\\n",
       "259  3.071596e+09  3.124561e+09  3.189656e+09  3.255146e+09  3.322047e+09   \n",
       "\n",
       "     ...          2012          2013          2014          2015  \\\n",
       "259  ...  7.085790e+09  7.169675e+09  7.254293e+09  7.339077e+09   \n",
       "\n",
       "             2016          2017          2018          2019          2020  \\\n",
       "259  7.424485e+09  7.509410e+09  7.592476e+09  7.673345e+09  7.752841e+09   \n",
       "\n",
       "     Unnamed: 65  \n",
       "259          NaN  \n",
       "\n",
       "[1 rows x 66 columns]"
      ]
     },
     "execution_count": 11,
     "metadata": {},
     "output_type": "execute_result"
    }
   ],
   "source": [
    "dataset.head()"
   ]
  },
  {
   "cell_type": "markdown",
   "id": "3bec949d",
   "metadata": {},
   "source": [
    "## Step 2: Prepare\n",
    "- Explore data\n",
    "- Visualize ideas\n",
    "- Cleaning data"
   ]
  },
  {
   "cell_type": "markdown",
   "id": "6a5d948d",
   "metadata": {},
   "source": [
    "### Step 2.a: Check the data types\n",
    "- This step tells you if some numeric column is not represented numeric.\n",
    "- Get the data types by ```.dtypes```"
   ]
  },
  {
   "cell_type": "code",
   "execution_count": 12,
   "id": "60570c15",
   "metadata": {},
   "outputs": [
    {
     "data": {
      "text/plain": [
       "Country Name       object\n",
       "Country Code       object\n",
       "Indicator Name     object\n",
       "Indicator Code     object\n",
       "1960              float64\n",
       "                   ...   \n",
       "2017              float64\n",
       "2018              float64\n",
       "2019              float64\n",
       "2020              float64\n",
       "Unnamed: 65       float64\n",
       "Length: 66, dtype: object"
      ]
     },
     "execution_count": 12,
     "metadata": {},
     "output_type": "execute_result"
    }
   ],
   "source": [
    "dataset.dtypes"
   ]
  },
  {
   "cell_type": "markdown",
   "id": "74fcad4d",
   "metadata": {},
   "source": [
    "### Step 2.b: Keep only needed columns\n",
    "- We are only interested in the year columns.\n",
    "- You can drop the other columns by: ```.drop(list_of_columns_to_delete, axis='columns')```\n",
    "- Notice there is a `unnamed` column.\n",
    "    - Remove it with `dataset.dropna(how='all', axis='columns')`"
   ]
  },
  {
   "cell_type": "code",
   "execution_count": 14,
   "id": "9454e93b",
   "metadata": {},
   "outputs": [
    {
     "data": {
      "text/html": [
       "<div>\n",
       "<style scoped>\n",
       "    .dataframe tbody tr th:only-of-type {\n",
       "        vertical-align: middle;\n",
       "    }\n",
       "\n",
       "    .dataframe tbody tr th {\n",
       "        vertical-align: top;\n",
       "    }\n",
       "\n",
       "    .dataframe thead th {\n",
       "        text-align: right;\n",
       "    }\n",
       "</style>\n",
       "<table border=\"1\" class=\"dataframe\">\n",
       "  <thead>\n",
       "    <tr style=\"text-align: right;\">\n",
       "      <th></th>\n",
       "      <th>1960</th>\n",
       "      <th>1961</th>\n",
       "      <th>1962</th>\n",
       "      <th>1963</th>\n",
       "      <th>1964</th>\n",
       "      <th>1965</th>\n",
       "      <th>1966</th>\n",
       "      <th>1967</th>\n",
       "      <th>1968</th>\n",
       "      <th>1969</th>\n",
       "      <th>...</th>\n",
       "      <th>2012</th>\n",
       "      <th>2013</th>\n",
       "      <th>2014</th>\n",
       "      <th>2015</th>\n",
       "      <th>2016</th>\n",
       "      <th>2017</th>\n",
       "      <th>2018</th>\n",
       "      <th>2019</th>\n",
       "      <th>2020</th>\n",
       "      <th>Unnamed: 65</th>\n",
       "    </tr>\n",
       "  </thead>\n",
       "  <tbody>\n",
       "    <tr>\n",
       "      <th>259</th>\n",
       "      <td>3.032156e+09</td>\n",
       "      <td>3.071596e+09</td>\n",
       "      <td>3.124561e+09</td>\n",
       "      <td>3.189656e+09</td>\n",
       "      <td>3.255146e+09</td>\n",
       "      <td>3.322047e+09</td>\n",
       "      <td>3.392098e+09</td>\n",
       "      <td>3.461620e+09</td>\n",
       "      <td>3.532783e+09</td>\n",
       "      <td>3.606554e+09</td>\n",
       "      <td>...</td>\n",
       "      <td>7.085790e+09</td>\n",
       "      <td>7.169675e+09</td>\n",
       "      <td>7.254293e+09</td>\n",
       "      <td>7.339077e+09</td>\n",
       "      <td>7.424485e+09</td>\n",
       "      <td>7.509410e+09</td>\n",
       "      <td>7.592476e+09</td>\n",
       "      <td>7.673345e+09</td>\n",
       "      <td>7.752841e+09</td>\n",
       "      <td>NaN</td>\n",
       "    </tr>\n",
       "  </tbody>\n",
       "</table>\n",
       "<p>1 rows × 62 columns</p>\n",
       "</div>"
      ],
      "text/plain": [
       "             1960          1961          1962          1963          1964  \\\n",
       "259  3.032156e+09  3.071596e+09  3.124561e+09  3.189656e+09  3.255146e+09   \n",
       "\n",
       "             1965          1966          1967          1968          1969  \\\n",
       "259  3.322047e+09  3.392098e+09  3.461620e+09  3.532783e+09  3.606554e+09   \n",
       "\n",
       "     ...          2012          2013          2014          2015  \\\n",
       "259  ...  7.085790e+09  7.169675e+09  7.254293e+09  7.339077e+09   \n",
       "\n",
       "             2016          2017          2018          2019          2020  \\\n",
       "259  7.424485e+09  7.509410e+09  7.592476e+09  7.673345e+09  7.752841e+09   \n",
       "\n",
       "     Unnamed: 65  \n",
       "259          NaN  \n",
       "\n",
       "[1 rows x 62 columns]"
      ]
     },
     "execution_count": 14,
     "metadata": {},
     "output_type": "execute_result"
    }
   ],
   "source": [
    "dataset = dataset.drop(['Country Name', 'Country Code', 'Indicator Name', 'Indicator Code'], axis='columns')\n",
    "dataset.head()"
   ]
  },
  {
   "cell_type": "code",
   "execution_count": 15,
   "id": "ab6a9581",
   "metadata": {},
   "outputs": [
    {
     "data": {
      "text/html": [
       "<div>\n",
       "<style scoped>\n",
       "    .dataframe tbody tr th:only-of-type {\n",
       "        vertical-align: middle;\n",
       "    }\n",
       "\n",
       "    .dataframe tbody tr th {\n",
       "        vertical-align: top;\n",
       "    }\n",
       "\n",
       "    .dataframe thead th {\n",
       "        text-align: right;\n",
       "    }\n",
       "</style>\n",
       "<table border=\"1\" class=\"dataframe\">\n",
       "  <thead>\n",
       "    <tr style=\"text-align: right;\">\n",
       "      <th></th>\n",
       "      <th>1960</th>\n",
       "      <th>1961</th>\n",
       "      <th>1962</th>\n",
       "      <th>1963</th>\n",
       "      <th>1964</th>\n",
       "      <th>1965</th>\n",
       "      <th>1966</th>\n",
       "      <th>1967</th>\n",
       "      <th>1968</th>\n",
       "      <th>1969</th>\n",
       "      <th>...</th>\n",
       "      <th>2011</th>\n",
       "      <th>2012</th>\n",
       "      <th>2013</th>\n",
       "      <th>2014</th>\n",
       "      <th>2015</th>\n",
       "      <th>2016</th>\n",
       "      <th>2017</th>\n",
       "      <th>2018</th>\n",
       "      <th>2019</th>\n",
       "      <th>2020</th>\n",
       "    </tr>\n",
       "  </thead>\n",
       "  <tbody>\n",
       "    <tr>\n",
       "      <th>259</th>\n",
       "      <td>3.032156e+09</td>\n",
       "      <td>3.071596e+09</td>\n",
       "      <td>3.124561e+09</td>\n",
       "      <td>3.189656e+09</td>\n",
       "      <td>3.255146e+09</td>\n",
       "      <td>3.322047e+09</td>\n",
       "      <td>3.392098e+09</td>\n",
       "      <td>3.461620e+09</td>\n",
       "      <td>3.532783e+09</td>\n",
       "      <td>3.606554e+09</td>\n",
       "      <td>...</td>\n",
       "      <td>7.002881e+09</td>\n",
       "      <td>7.085790e+09</td>\n",
       "      <td>7.169675e+09</td>\n",
       "      <td>7.254293e+09</td>\n",
       "      <td>7.339077e+09</td>\n",
       "      <td>7.424485e+09</td>\n",
       "      <td>7.509410e+09</td>\n",
       "      <td>7.592476e+09</td>\n",
       "      <td>7.673345e+09</td>\n",
       "      <td>7.752841e+09</td>\n",
       "    </tr>\n",
       "  </tbody>\n",
       "</table>\n",
       "<p>1 rows × 61 columns</p>\n",
       "</div>"
      ],
      "text/plain": [
       "             1960          1961          1962          1963          1964  \\\n",
       "259  3.032156e+09  3.071596e+09  3.124561e+09  3.189656e+09  3.255146e+09   \n",
       "\n",
       "             1965          1966          1967          1968          1969  \\\n",
       "259  3.322047e+09  3.392098e+09  3.461620e+09  3.532783e+09  3.606554e+09   \n",
       "\n",
       "     ...          2011          2012          2013          2014  \\\n",
       "259  ...  7.002881e+09  7.085790e+09  7.169675e+09  7.254293e+09   \n",
       "\n",
       "             2015          2016          2017          2018          2019  \\\n",
       "259  7.339077e+09  7.424485e+09  7.509410e+09  7.592476e+09  7.673345e+09   \n",
       "\n",
       "             2020  \n",
       "259  7.752841e+09  \n",
       "\n",
       "[1 rows x 61 columns]"
      ]
     },
     "execution_count": 15,
     "metadata": {},
     "output_type": "execute_result"
    }
   ],
   "source": [
    "dataset = dataset.dropna(how='all', axis='columns')\n",
    "dataset.head()"
   ]
  },
  {
   "cell_type": "markdown",
   "id": "5ffac106",
   "metadata": {},
   "source": [
    "### Step 2.c: Transpose data\n",
    "- It makes sense to have years in the rows\n",
    "- This can be done with `.transpose()`"
   ]
  },
  {
   "cell_type": "code",
   "execution_count": 17,
   "id": "4aa7fcdc",
   "metadata": {},
   "outputs": [],
   "source": [
    "dataset = dataset.transpose()"
   ]
  },
  {
   "cell_type": "code",
   "execution_count": 18,
   "id": "30a8c96c",
   "metadata": {},
   "outputs": [
    {
     "data": {
      "text/html": [
       "<div>\n",
       "<style scoped>\n",
       "    .dataframe tbody tr th:only-of-type {\n",
       "        vertical-align: middle;\n",
       "    }\n",
       "\n",
       "    .dataframe tbody tr th {\n",
       "        vertical-align: top;\n",
       "    }\n",
       "\n",
       "    .dataframe thead th {\n",
       "        text-align: right;\n",
       "    }\n",
       "</style>\n",
       "<table border=\"1\" class=\"dataframe\">\n",
       "  <thead>\n",
       "    <tr style=\"text-align: right;\">\n",
       "      <th></th>\n",
       "      <th>259</th>\n",
       "    </tr>\n",
       "  </thead>\n",
       "  <tbody>\n",
       "    <tr>\n",
       "      <th>1960</th>\n",
       "      <td>3.032156e+09</td>\n",
       "    </tr>\n",
       "    <tr>\n",
       "      <th>1961</th>\n",
       "      <td>3.071596e+09</td>\n",
       "    </tr>\n",
       "    <tr>\n",
       "      <th>1962</th>\n",
       "      <td>3.124561e+09</td>\n",
       "    </tr>\n",
       "    <tr>\n",
       "      <th>1963</th>\n",
       "      <td>3.189656e+09</td>\n",
       "    </tr>\n",
       "    <tr>\n",
       "      <th>1964</th>\n",
       "      <td>3.255146e+09</td>\n",
       "    </tr>\n",
       "  </tbody>\n",
       "</table>\n",
       "</div>"
      ],
      "text/plain": [
       "               259\n",
       "1960  3.032156e+09\n",
       "1961  3.071596e+09\n",
       "1962  3.124561e+09\n",
       "1963  3.189656e+09\n",
       "1964  3.255146e+09"
      ]
     },
     "execution_count": 18,
     "metadata": {},
     "output_type": "execute_result"
    }
   ],
   "source": [
    "dataset.head()"
   ]
  },
  {
   "cell_type": "markdown",
   "id": "9be4b35f",
   "metadata": {},
   "source": [
    "### Step 2.d: Rename column\n",
    "- The name 259 can be renamed as follows\n",
    "- This can be done as follows\n",
    "```.rename(columns={259:'World Population'})```"
   ]
  },
  {
   "cell_type": "code",
   "execution_count": 21,
   "id": "a64c7688",
   "metadata": {},
   "outputs": [
    {
     "data": {
      "text/html": [
       "<div>\n",
       "<style scoped>\n",
       "    .dataframe tbody tr th:only-of-type {\n",
       "        vertical-align: middle;\n",
       "    }\n",
       "\n",
       "    .dataframe tbody tr th {\n",
       "        vertical-align: top;\n",
       "    }\n",
       "\n",
       "    .dataframe thead th {\n",
       "        text-align: right;\n",
       "    }\n",
       "</style>\n",
       "<table border=\"1\" class=\"dataframe\">\n",
       "  <thead>\n",
       "    <tr style=\"text-align: right;\">\n",
       "      <th></th>\n",
       "      <th>World Population</th>\n",
       "    </tr>\n",
       "  </thead>\n",
       "  <tbody>\n",
       "    <tr>\n",
       "      <th>1960</th>\n",
       "      <td>3.032156e+09</td>\n",
       "    </tr>\n",
       "    <tr>\n",
       "      <th>1961</th>\n",
       "      <td>3.071596e+09</td>\n",
       "    </tr>\n",
       "    <tr>\n",
       "      <th>1962</th>\n",
       "      <td>3.124561e+09</td>\n",
       "    </tr>\n",
       "    <tr>\n",
       "      <th>1963</th>\n",
       "      <td>3.189656e+09</td>\n",
       "    </tr>\n",
       "    <tr>\n",
       "      <th>1964</th>\n",
       "      <td>3.255146e+09</td>\n",
       "    </tr>\n",
       "  </tbody>\n",
       "</table>\n",
       "</div>"
      ],
      "text/plain": [
       "      World Population\n",
       "1960      3.032156e+09\n",
       "1961      3.071596e+09\n",
       "1962      3.124561e+09\n",
       "1963      3.189656e+09\n",
       "1964      3.255146e+09"
      ]
     },
     "execution_count": 21,
     "metadata": {},
     "output_type": "execute_result"
    }
   ],
   "source": [
    "dataset = dataset.rename(columns={259:'World Population'})\n",
    "dataset.head()"
   ]
  },
  {
   "cell_type": "markdown",
   "id": "137fdfde",
   "metadata": {},
   "source": [
    "### Step 2.e: Visualize data\n",
    "- This is done to check data quality\n",
    "- You can plot the DataFrame with `.plot()`"
   ]
  },
  {
   "cell_type": "code",
   "execution_count": 22,
   "id": "628f2e5c",
   "metadata": {},
   "outputs": [
    {
     "data": {
      "text/plain": [
       "<AxesSubplot:>"
      ]
     },
     "execution_count": 22,
     "metadata": {},
     "output_type": "execute_result"
    },
    {
     "data": {
      "image/png": "[encoded data removed]",
      "text/plain": [
       "<Figure size 432x288 with 1 Axes>"
      ]
     },
     "metadata": {
      "needs_background": "light"
     },
     "output_type": "display_data"
    }
   ],
   "source": [
    "dataset.plot()"
   ]
  },
  {
   "cell_type": "markdown",
   "id": "8cc1cabe",
   "metadata": {},
   "source": [
    "## Step 3: Analyze\n",
    "- Feature selection\n",
    "- Model selection\n",
    "- Analyze data"
   ]
  },
  {
   "cell_type": "markdown",
   "id": "30796964",
   "metadata": {},
   "source": [
    "### Step 3.a: Calculate yearly percentage change\n",
    "- We want to explore the growth of the world population\n",
    "- First step is to calculate the yearly growth\n",
    "- This can be done with `pct_change()` ([docs](https://pandas.pydata.org/docs/reference/api/pandas.DataFrame.pct_change.html))\n",
    "- Add a new column `Yearly growth` with the growth in percentage"
   ]
  },
  {
   "cell_type": "code",
   "execution_count": 24,
   "id": "4312b93e",
   "metadata": {},
   "outputs": [
    {
     "data": {
      "text/html": [
       "<div>\n",
       "<style scoped>\n",
       "    .dataframe tbody tr th:only-of-type {\n",
       "        vertical-align: middle;\n",
       "    }\n",
       "\n",
       "    .dataframe tbody tr th {\n",
       "        vertical-align: top;\n",
       "    }\n",
       "\n",
       "    .dataframe thead th {\n",
       "        text-align: right;\n",
       "    }\n",
       "</style>\n",
       "<table border=\"1\" class=\"dataframe\">\n",
       "  <thead>\n",
       "    <tr style=\"text-align: right;\">\n",
       "      <th></th>\n",
       "      <th>World Population</th>\n",
       "      <th>Yearly growth</th>\n",
       "    </tr>\n",
       "  </thead>\n",
       "  <tbody>\n",
       "    <tr>\n",
       "      <th>1960</th>\n",
       "      <td>3.032156e+09</td>\n",
       "      <td>NaN</td>\n",
       "    </tr>\n",
       "    <tr>\n",
       "      <th>1961</th>\n",
       "      <td>3.071596e+09</td>\n",
       "      <td>0.013007</td>\n",
       "    </tr>\n",
       "    <tr>\n",
       "      <th>1962</th>\n",
       "      <td>3.124561e+09</td>\n",
       "      <td>0.017243</td>\n",
       "    </tr>\n",
       "    <tr>\n",
       "      <th>1963</th>\n",
       "      <td>3.189656e+09</td>\n",
       "      <td>0.020833</td>\n",
       "    </tr>\n",
       "    <tr>\n",
       "      <th>1964</th>\n",
       "      <td>3.255146e+09</td>\n",
       "      <td>0.020532</td>\n",
       "    </tr>\n",
       "  </tbody>\n",
       "</table>\n",
       "</div>"
      ],
      "text/plain": [
       "      World Population  Yearly growth\n",
       "1960      3.032156e+09            NaN\n",
       "1961      3.071596e+09       0.013007\n",
       "1962      3.124561e+09       0.017243\n",
       "1963      3.189656e+09       0.020833\n",
       "1964      3.255146e+09       0.020532"
      ]
     },
     "execution_count": 24,
     "metadata": {},
     "output_type": "execute_result"
    }
   ],
   "source": [
    "dataset['Yearly growth'] = dataset['World Population'].pct_change()\n",
    "dataset.head()"
   ]
  },
  {
   "cell_type": "markdown",
   "id": "89aeb8d7",
   "metadata": {},
   "source": [
    "### Step 3.b: Visualize the Yearly growth\n",
    "- Plot it with `.plot()`\n",
    "- This will give you an idea of the trend."
   ]
  },
  {
   "cell_type": "code",
   "execution_count": 25,
   "id": "660bdadc",
   "metadata": {},
   "outputs": [
    {
     "data": {
      "text/plain": [
       "<AxesSubplot:>"
      ]
     },
     "execution_count": 25,
     "metadata": {},
     "output_type": "execute_result"
    },
    {
     "data": {
      "image/png": "[encoded data removed]",
      "text/plain": [
       "<Figure size 432x288 with 1 Axes>"
      ]
     },
     "metadata": {
      "needs_background": "light"
     },
     "output_type": "display_data"
    }
   ],
   "source": [
    "dataset['Yearly growth'].plot()"
   ]
  },
  {
   "cell_type": "markdown",
   "id": "8b76a782",
   "metadata": {},
   "source": [
    "### Step 3.c: Smooth the result\n",
    "- A great way is to smooth the result\n",
    "- This can show local tendencies\n",
    "- Calculate a 10-years rolling average by using [rolling(10)](https://pandas.pydata.org/docs/reference/api/pandas.DataFrame.rolling.html).[mean()](https://pandas.pydata.org/docs/reference/api/pandas.core.window.rolling.Rolling.mean.html)\n",
    "```Python\n",
    "dataset['Yearly growth'].rolling(10).mean()\n",
    "```\n",
    "- Visualize the result\n",
    "    - HINT: Make a plot containing `Yearly growth` and the new calculation.\n",
    "- What does that tell you?"
   ]
  },
  {
   "cell_type": "code",
   "execution_count": 27,
   "id": "5d1eda1b",
   "metadata": {},
   "outputs": [],
   "source": [
    "dataset['Smooth'] = dataset['Yearly growth'].rolling(10).mean()"
   ]
  },
  {
   "cell_type": "code",
   "execution_count": 28,
   "id": "e4f1dac6",
   "metadata": {},
   "outputs": [
    {
     "data": {
      "text/plain": [
       "<AxesSubplot:>"
      ]
     },
     "execution_count": 28,
     "metadata": {},
     "output_type": "execute_result"
    },
    {
     "data": {
      "image/png": "[encoded data removed]",
      "text/plain": [
       "<Figure size 432x288 with 1 Axes>"
      ]
     },
     "metadata": {
      "needs_background": "light"
     },
     "output_type": "display_data"
    }
   ],
   "source": [
    "dataset[['Smooth', 'Yearly growth']].plot()"
   ]
  },
  {
   "cell_type": "markdown",
   "id": "98a71ee2",
   "metadata": {},
   "source": [
    "## Step 4: Report\n",
    "- Present findings\n",
    "- Visualize results\n",
    "- Credibility counts"
   ]
  },
  {
   "cell_type": "markdown",
   "id": "ff7e91d7",
   "metadata": {},
   "source": [
    "### Step 4.a: Transform data\n",
    "- To make plot more readable transform data to percentage\n",
    "    - HINT: Multiply columns data `Yearly growth` and the smoothed data by 100"
   ]
  },
  {
   "cell_type": "code",
   "execution_count": 29,
   "id": "c2bbf8b6",
   "metadata": {},
   "outputs": [],
   "source": [
    "dataset[['Smooth', 'Yearly growth']] *= 100"
   ]
  },
  {
   "cell_type": "code",
   "execution_count": 30,
   "id": "e05f65ee",
   "metadata": {},
   "outputs": [
    {
     "data": {
      "text/plain": [
       "<AxesSubplot:>"
      ]
     },
     "execution_count": 30,
     "metadata": {},
     "output_type": "execute_result"
    },
    {
     "data": {
      "image/png": "[encoded data removed]",
      "text/plain": [
       "<Figure size 432x288 with 1 Axes>"
      ]
     },
     "metadata": {
      "needs_background": "light"
     },
     "output_type": "display_data"
    }
   ],
   "source": [
    "dataset[['Smooth', 'Yearly growth']].plot()"
   ]
  },
  {
   "cell_type": "markdown",
   "id": "53cbf747",
   "metadata": {},
   "source": [
    "### Step 4.b: Set title and labels on axis\n",
    "- In the plot set labels and axis\n",
    "    - `xlabel='Year'` the same for `ylabel` and `title`"
   ]
  },
  {
   "cell_type": "code",
   "execution_count": 31,
   "id": "95c98bad",
   "metadata": {},
   "outputs": [
    {
     "data": {
      "text/plain": [
       "<AxesSubplot:title={'center':'World of pupulation growth'}, xlabel='Year', ylabel='Yearly growth'>"
      ]
     },
     "execution_count": 31,
     "metadata": {},
     "output_type": "execute_result"
    },
    {
     "data": {
      "image/png": "[encoded data removed]",
      "text/plain": [
       "<Figure size 432x288 with 1 Axes>"
      ]
     },
     "metadata": {
      "needs_background": "light"
     },
     "output_type": "display_data"
    }
   ],
   "source": [
    "dataset[['Smooth', 'Yearly growth']].plot(xlabel='Year', ylabel='Yearly growth', title='World of pupulation growth')"
   ]
  },
  {
   "cell_type": "markdown",
   "id": "74510a5d",
   "metadata": {},
   "source": [
    "### Step 4.c: Adding ranges on axis\n",
    "- Add range on y-axis to make the plot more readable.\n",
    "- Use `ylim=0`"
   ]
  },
  {
   "cell_type": "code",
   "execution_count": 32,
   "id": "ba0e5f6e",
   "metadata": {},
   "outputs": [
    {
     "data": {
      "text/plain": [
       "<AxesSubplot:title={'center':'World of pupulation growth'}, xlabel='Year', ylabel='Yearly growth'>"
      ]
     },
     "execution_count": 32,
     "metadata": {},
     "output_type": "execute_result"
    },
    {
     "data": {
      "image/png": "[encoded data removed]",
      "text/plain": [
       "<Figure size 432x288 with 1 Axes>"
      ]
     },
     "metadata": {
      "needs_background": "light"
     },
     "output_type": "display_data"
    }
   ],
   "source": [
    "dataset[['Smooth', 'Yearly growth']].plot(xlabel='Year', ylabel='Yearly growth', title='World of pupulation growth', ylim=0)"
   ]
  },
  {
   "cell_type": "markdown",
   "id": "65c865f1",
   "metadata": {},
   "source": [
    "## Step 5: Actions\n",
    "- Use insights\n",
    "- Measure impact\n",
    "- Main goal"
   ]
  },
  {
   "cell_type": "markdown",
   "id": "b246449c",
   "metadata": {},
   "source": [
    "### Step 5.a\n",
    "- Any insights to use?\n",
    "- Do we need to make predictions based on it?"
   ]
  },
  {
   "cell_type": "code",
   "execution_count": null,
   "id": "001f8237",
   "metadata": {},
   "outputs": [],
   "source": []
  }
 ],
 "metadata": {
  "kernelspec": {
   "display_name": "Python 3 (ipykernel)",
   "language": "python",
   "name": "python3"
  },
  "language_info": {
   "codemirror_mode": {
    "name": "ipython",
    "version": 3
   },
   "file_extension": ".py",
   "mimetype": "text/x-python",
   "name": "python",
   "nbconvert_exporter": "python",
   "pygments_lexer": "ipython3",
   "version": "3.9.10"
  }
 },
 "nbformat": 4,
 "nbformat_minor": 5
}
